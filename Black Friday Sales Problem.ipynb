{
 "cells": [
  {
   "cell_type": "markdown",
   "id": "ed36b7af",
   "metadata": {},
   "source": [
    "A retail company “ABC Private Limited” wants to understand the customer purchase behaviour (specifically, purchase amount) against various products of different categories. They have shared purchase summary of various customers for selected high volume products from last month.\n",
    "The data set also contains customer demographics (age, gender, marital status, city_type, stay_in_current_city), product details (product_id and product category) and Total purchase_amount from last month.\n",
    "\n",
    "Now, they want to build a model to **predict the purchase amount of customer against various products which will help them to create personalized offer for customers against different products.**"
   ]
  },
  {
   "cell_type": "code",
   "execution_count": 148,
   "id": "df478ce2",
   "metadata": {},
   "outputs": [
    {
     "data": {
      "application/javascript": [
       "\n",
       "        if (window._pyforest_update_imports_cell) { window._pyforest_update_imports_cell('import matplotlib.pyplot as plt\\nimport seaborn as sns'); }\n",
       "    "
      ],
      "text/plain": [
       "<IPython.core.display.Javascript object>"
      ]
     },
     "metadata": {},
     "output_type": "display_data"
    }
   ],
   "source": [
    "import numpy as np\n",
    "import pandas as pd\n",
    "\n",
    "import warnings\n",
    "warnings.filterwarnings(\"ignore\")\n",
    "plt.rcParams['figure.figsize'] = [15, 6]"
   ]
  },
  {
   "cell_type": "code",
   "execution_count": 149,
   "id": "3fa26172",
   "metadata": {},
   "outputs": [
    {
     "name": "stdout",
     "output_type": "stream",
     "text": [
      "(550068, 12) (233599, 11) (783667, 12)\n"
     ]
    }
   ],
   "source": [
    "train = pd.read_csv(\"~/Downloads/train.csv\")\n",
    "test = pd.read_csv(\"~/Downloads/test.csv\")\n",
    "\n",
    "# Combined the data\n",
    "combined = pd.concat([train, test], ignore_index= True)\n",
    "\n",
    "print(train.shape, test.shape, combined.shape)"
   ]
  },
  {
   "cell_type": "code",
   "execution_count": 150,
   "id": "50d3c87f",
   "metadata": {},
   "outputs": [
    {
     "data": {
      "text/html": [
       "<div>\n",
       "<style scoped>\n",
       "    .dataframe tbody tr th:only-of-type {\n",
       "        vertical-align: middle;\n",
       "    }\n",
       "\n",
       "    .dataframe tbody tr th {\n",
       "        vertical-align: top;\n",
       "    }\n",
       "\n",
       "    .dataframe thead th {\n",
       "        text-align: right;\n",
       "    }\n",
       "</style>\n",
       "<table border=\"1\" class=\"dataframe\">\n",
       "  <thead>\n",
       "    <tr style=\"text-align: right;\">\n",
       "      <th></th>\n",
       "      <th>User_ID</th>\n",
       "      <th>Product_ID</th>\n",
       "      <th>Gender</th>\n",
       "      <th>Age</th>\n",
       "      <th>Occupation</th>\n",
       "      <th>City_Category</th>\n",
       "      <th>Stay_In_Current_City_Years</th>\n",
       "      <th>Marital_Status</th>\n",
       "      <th>Product_Category_1</th>\n",
       "      <th>Product_Category_2</th>\n",
       "      <th>Product_Category_3</th>\n",
       "      <th>Purchase</th>\n",
       "    </tr>\n",
       "  </thead>\n",
       "  <tbody>\n",
       "    <tr>\n",
       "      <th>0</th>\n",
       "      <td>1000001</td>\n",
       "      <td>P00069042</td>\n",
       "      <td>F</td>\n",
       "      <td>0-17</td>\n",
       "      <td>10</td>\n",
       "      <td>A</td>\n",
       "      <td>2</td>\n",
       "      <td>0</td>\n",
       "      <td>3</td>\n",
       "      <td>NaN</td>\n",
       "      <td>NaN</td>\n",
       "      <td>8370.0</td>\n",
       "    </tr>\n",
       "    <tr>\n",
       "      <th>1</th>\n",
       "      <td>1000001</td>\n",
       "      <td>P00248942</td>\n",
       "      <td>F</td>\n",
       "      <td>0-17</td>\n",
       "      <td>10</td>\n",
       "      <td>A</td>\n",
       "      <td>2</td>\n",
       "      <td>0</td>\n",
       "      <td>1</td>\n",
       "      <td>6.0</td>\n",
       "      <td>14.0</td>\n",
       "      <td>15200.0</td>\n",
       "    </tr>\n",
       "    <tr>\n",
       "      <th>2</th>\n",
       "      <td>1000001</td>\n",
       "      <td>P00087842</td>\n",
       "      <td>F</td>\n",
       "      <td>0-17</td>\n",
       "      <td>10</td>\n",
       "      <td>A</td>\n",
       "      <td>2</td>\n",
       "      <td>0</td>\n",
       "      <td>12</td>\n",
       "      <td>NaN</td>\n",
       "      <td>NaN</td>\n",
       "      <td>1422.0</td>\n",
       "    </tr>\n",
       "    <tr>\n",
       "      <th>3</th>\n",
       "      <td>1000001</td>\n",
       "      <td>P00085442</td>\n",
       "      <td>F</td>\n",
       "      <td>0-17</td>\n",
       "      <td>10</td>\n",
       "      <td>A</td>\n",
       "      <td>2</td>\n",
       "      <td>0</td>\n",
       "      <td>12</td>\n",
       "      <td>14.0</td>\n",
       "      <td>NaN</td>\n",
       "      <td>1057.0</td>\n",
       "    </tr>\n",
       "    <tr>\n",
       "      <th>4</th>\n",
       "      <td>1000002</td>\n",
       "      <td>P00285442</td>\n",
       "      <td>M</td>\n",
       "      <td>55+</td>\n",
       "      <td>16</td>\n",
       "      <td>C</td>\n",
       "      <td>4+</td>\n",
       "      <td>0</td>\n",
       "      <td>8</td>\n",
       "      <td>NaN</td>\n",
       "      <td>NaN</td>\n",
       "      <td>7969.0</td>\n",
       "    </tr>\n",
       "  </tbody>\n",
       "</table>\n",
       "</div>"
      ],
      "text/plain": [
       "   User_ID Product_ID Gender   Age  Occupation City_Category  \\\n",
       "0  1000001  P00069042      F  0-17          10             A   \n",
       "1  1000001  P00248942      F  0-17          10             A   \n",
       "2  1000001  P00087842      F  0-17          10             A   \n",
       "3  1000001  P00085442      F  0-17          10             A   \n",
       "4  1000002  P00285442      M   55+          16             C   \n",
       "\n",
       "  Stay_In_Current_City_Years  Marital_Status  Product_Category_1  \\\n",
       "0                          2               0                   3   \n",
       "1                          2               0                   1   \n",
       "2                          2               0                  12   \n",
       "3                          2               0                  12   \n",
       "4                         4+               0                   8   \n",
       "\n",
       "   Product_Category_2  Product_Category_3  Purchase  \n",
       "0                 NaN                 NaN    8370.0  \n",
       "1                 6.0                14.0   15200.0  \n",
       "2                 NaN                 NaN    1422.0  \n",
       "3                14.0                 NaN    1057.0  \n",
       "4                 NaN                 NaN    7969.0  "
      ]
     },
     "execution_count": 150,
     "metadata": {},
     "output_type": "execute_result"
    }
   ],
   "source": [
    "combined.head()"
   ]
  },
  {
   "cell_type": "code",
   "execution_count": 151,
   "id": "2b7b7251",
   "metadata": {},
   "outputs": [
    {
     "data": {
      "text/plain": [
       "Index(['User_ID', 'Product_ID', 'Gender', 'Age', 'Occupation', 'City_Category',\n",
       "       'Stay_In_Current_City_Years', 'Marital_Status', 'Product_Category_1',\n",
       "       'Product_Category_2', 'Product_Category_3', 'Purchase'],\n",
       "      dtype='object')"
      ]
     },
     "execution_count": 151,
     "metadata": {},
     "output_type": "execute_result"
    }
   ],
   "source": [
    "#  What defines the Customer's Purchase Habits...\n",
    "combined.columns\n",
    "\n",
    "# Gender, Age, Occupation, Stay in Current City...\n",
    "# marital status, City Category..."
   ]
  },
  {
   "cell_type": "code",
   "execution_count": 152,
   "id": "2d100aaa",
   "metadata": {},
   "outputs": [
    {
     "name": "stdout",
     "output_type": "stream",
     "text": [
      "<class 'pandas.core.frame.DataFrame'>\n",
      "RangeIndex: 783667 entries, 0 to 783666\n",
      "Data columns (total 12 columns):\n",
      " #   Column                      Non-Null Count   Dtype  \n",
      "---  ------                      --------------   -----  \n",
      " 0   User_ID                     783667 non-null  int64  \n",
      " 1   Product_ID                  783667 non-null  object \n",
      " 2   Gender                      783667 non-null  object \n",
      " 3   Age                         783667 non-null  object \n",
      " 4   Occupation                  783667 non-null  int64  \n",
      " 5   City_Category               783667 non-null  object \n",
      " 6   Stay_In_Current_City_Years  783667 non-null  object \n",
      " 7   Marital_Status              783667 non-null  int64  \n",
      " 8   Product_Category_1          783667 non-null  int64  \n",
      " 9   Product_Category_2          537685 non-null  float64\n",
      " 10  Product_Category_3          237858 non-null  float64\n",
      " 11  Purchase                    550068 non-null  float64\n",
      "dtypes: float64(3), int64(4), object(5)\n",
      "memory usage: 71.7+ MB\n"
     ]
    }
   ],
   "source": [
    "# Lets check the Info of the Data\n",
    "combined.info()\n",
    "\n",
    "# Fix the Stay in Current City."
   ]
  },
  {
   "cell_type": "code",
   "execution_count": 153,
   "id": "cfd40998",
   "metadata": {},
   "outputs": [
    {
     "data": {
      "text/html": [
       "<div>\n",
       "<style scoped>\n",
       "    .dataframe tbody tr th:only-of-type {\n",
       "        vertical-align: middle;\n",
       "    }\n",
       "\n",
       "    .dataframe tbody tr th {\n",
       "        vertical-align: top;\n",
       "    }\n",
       "\n",
       "    .dataframe thead th {\n",
       "        text-align: right;\n",
       "    }\n",
       "</style>\n",
       "<table border=\"1\" class=\"dataframe\">\n",
       "  <thead>\n",
       "    <tr style=\"text-align: right;\">\n",
       "      <th></th>\n",
       "      <th>User_ID</th>\n",
       "      <th>Product_ID</th>\n",
       "      <th>Gender</th>\n",
       "      <th>Age</th>\n",
       "      <th>Occupation</th>\n",
       "      <th>City_Category</th>\n",
       "      <th>Stay_In_Current_City_Years</th>\n",
       "      <th>Marital_Status</th>\n",
       "      <th>Product_Category_1</th>\n",
       "      <th>Product_Category_2</th>\n",
       "      <th>Product_Category_3</th>\n",
       "      <th>Purchase</th>\n",
       "    </tr>\n",
       "  </thead>\n",
       "  <tbody>\n",
       "    <tr>\n",
       "      <th>count</th>\n",
       "      <td>7.836670e+05</td>\n",
       "      <td>783667</td>\n",
       "      <td>783667</td>\n",
       "      <td>783667</td>\n",
       "      <td>783667.000000</td>\n",
       "      <td>783667</td>\n",
       "      <td>783667</td>\n",
       "      <td>783667.000000</td>\n",
       "      <td>783667.000000</td>\n",
       "      <td>537685.000000</td>\n",
       "      <td>237858.000000</td>\n",
       "      <td>550068.000000</td>\n",
       "    </tr>\n",
       "    <tr>\n",
       "      <th>unique</th>\n",
       "      <td>NaN</td>\n",
       "      <td>3677</td>\n",
       "      <td>2</td>\n",
       "      <td>7</td>\n",
       "      <td>NaN</td>\n",
       "      <td>3</td>\n",
       "      <td>5</td>\n",
       "      <td>NaN</td>\n",
       "      <td>NaN</td>\n",
       "      <td>NaN</td>\n",
       "      <td>NaN</td>\n",
       "      <td>NaN</td>\n",
       "    </tr>\n",
       "    <tr>\n",
       "      <th>top</th>\n",
       "      <td>NaN</td>\n",
       "      <td>P00265242</td>\n",
       "      <td>M</td>\n",
       "      <td>26-35</td>\n",
       "      <td>NaN</td>\n",
       "      <td>B</td>\n",
       "      <td>1</td>\n",
       "      <td>NaN</td>\n",
       "      <td>NaN</td>\n",
       "      <td>NaN</td>\n",
       "      <td>NaN</td>\n",
       "      <td>NaN</td>\n",
       "    </tr>\n",
       "    <tr>\n",
       "      <th>freq</th>\n",
       "      <td>NaN</td>\n",
       "      <td>2709</td>\n",
       "      <td>590031</td>\n",
       "      <td>313015</td>\n",
       "      <td>NaN</td>\n",
       "      <td>329739</td>\n",
       "      <td>276425</td>\n",
       "      <td>NaN</td>\n",
       "      <td>NaN</td>\n",
       "      <td>NaN</td>\n",
       "      <td>NaN</td>\n",
       "      <td>NaN</td>\n",
       "    </tr>\n",
       "    <tr>\n",
       "      <th>mean</th>\n",
       "      <td>1.003029e+06</td>\n",
       "      <td>NaN</td>\n",
       "      <td>NaN</td>\n",
       "      <td>NaN</td>\n",
       "      <td>8.079300</td>\n",
       "      <td>NaN</td>\n",
       "      <td>NaN</td>\n",
       "      <td>0.409777</td>\n",
       "      <td>5.366196</td>\n",
       "      <td>9.844506</td>\n",
       "      <td>12.668605</td>\n",
       "      <td>9263.968713</td>\n",
       "    </tr>\n",
       "    <tr>\n",
       "      <th>std</th>\n",
       "      <td>1.727267e+03</td>\n",
       "      <td>NaN</td>\n",
       "      <td>NaN</td>\n",
       "      <td>NaN</td>\n",
       "      <td>6.522206</td>\n",
       "      <td>NaN</td>\n",
       "      <td>NaN</td>\n",
       "      <td>0.491793</td>\n",
       "      <td>3.878160</td>\n",
       "      <td>5.089093</td>\n",
       "      <td>4.125510</td>\n",
       "      <td>5023.065394</td>\n",
       "    </tr>\n",
       "    <tr>\n",
       "      <th>min</th>\n",
       "      <td>1.000001e+06</td>\n",
       "      <td>NaN</td>\n",
       "      <td>NaN</td>\n",
       "      <td>NaN</td>\n",
       "      <td>0.000000</td>\n",
       "      <td>NaN</td>\n",
       "      <td>NaN</td>\n",
       "      <td>0.000000</td>\n",
       "      <td>1.000000</td>\n",
       "      <td>2.000000</td>\n",
       "      <td>3.000000</td>\n",
       "      <td>12.000000</td>\n",
       "    </tr>\n",
       "    <tr>\n",
       "      <th>25%</th>\n",
       "      <td>1.001519e+06</td>\n",
       "      <td>NaN</td>\n",
       "      <td>NaN</td>\n",
       "      <td>NaN</td>\n",
       "      <td>2.000000</td>\n",
       "      <td>NaN</td>\n",
       "      <td>NaN</td>\n",
       "      <td>0.000000</td>\n",
       "      <td>1.000000</td>\n",
       "      <td>5.000000</td>\n",
       "      <td>9.000000</td>\n",
       "      <td>5823.000000</td>\n",
       "    </tr>\n",
       "    <tr>\n",
       "      <th>50%</th>\n",
       "      <td>1.003075e+06</td>\n",
       "      <td>NaN</td>\n",
       "      <td>NaN</td>\n",
       "      <td>NaN</td>\n",
       "      <td>7.000000</td>\n",
       "      <td>NaN</td>\n",
       "      <td>NaN</td>\n",
       "      <td>0.000000</td>\n",
       "      <td>5.000000</td>\n",
       "      <td>9.000000</td>\n",
       "      <td>14.000000</td>\n",
       "      <td>8047.000000</td>\n",
       "    </tr>\n",
       "    <tr>\n",
       "      <th>75%</th>\n",
       "      <td>1.004478e+06</td>\n",
       "      <td>NaN</td>\n",
       "      <td>NaN</td>\n",
       "      <td>NaN</td>\n",
       "      <td>14.000000</td>\n",
       "      <td>NaN</td>\n",
       "      <td>NaN</td>\n",
       "      <td>1.000000</td>\n",
       "      <td>8.000000</td>\n",
       "      <td>15.000000</td>\n",
       "      <td>16.000000</td>\n",
       "      <td>12054.000000</td>\n",
       "    </tr>\n",
       "    <tr>\n",
       "      <th>max</th>\n",
       "      <td>1.006040e+06</td>\n",
       "      <td>NaN</td>\n",
       "      <td>NaN</td>\n",
       "      <td>NaN</td>\n",
       "      <td>20.000000</td>\n",
       "      <td>NaN</td>\n",
       "      <td>NaN</td>\n",
       "      <td>1.000000</td>\n",
       "      <td>20.000000</td>\n",
       "      <td>18.000000</td>\n",
       "      <td>18.000000</td>\n",
       "      <td>23961.000000</td>\n",
       "    </tr>\n",
       "  </tbody>\n",
       "</table>\n",
       "</div>"
      ],
      "text/plain": [
       "             User_ID Product_ID  Gender     Age     Occupation City_Category  \\\n",
       "count   7.836670e+05     783667  783667  783667  783667.000000        783667   \n",
       "unique           NaN       3677       2       7            NaN             3   \n",
       "top              NaN  P00265242       M   26-35            NaN             B   \n",
       "freq             NaN       2709  590031  313015            NaN        329739   \n",
       "mean    1.003029e+06        NaN     NaN     NaN       8.079300           NaN   \n",
       "std     1.727267e+03        NaN     NaN     NaN       6.522206           NaN   \n",
       "min     1.000001e+06        NaN     NaN     NaN       0.000000           NaN   \n",
       "25%     1.001519e+06        NaN     NaN     NaN       2.000000           NaN   \n",
       "50%     1.003075e+06        NaN     NaN     NaN       7.000000           NaN   \n",
       "75%     1.004478e+06        NaN     NaN     NaN      14.000000           NaN   \n",
       "max     1.006040e+06        NaN     NaN     NaN      20.000000           NaN   \n",
       "\n",
       "       Stay_In_Current_City_Years  Marital_Status  Product_Category_1  \\\n",
       "count                      783667   783667.000000       783667.000000   \n",
       "unique                          5             NaN                 NaN   \n",
       "top                             1             NaN                 NaN   \n",
       "freq                       276425             NaN                 NaN   \n",
       "mean                          NaN        0.409777            5.366196   \n",
       "std                           NaN        0.491793            3.878160   \n",
       "min                           NaN        0.000000            1.000000   \n",
       "25%                           NaN        0.000000            1.000000   \n",
       "50%                           NaN        0.000000            5.000000   \n",
       "75%                           NaN        1.000000            8.000000   \n",
       "max                           NaN        1.000000           20.000000   \n",
       "\n",
       "        Product_Category_2  Product_Category_3       Purchase  \n",
       "count        537685.000000       237858.000000  550068.000000  \n",
       "unique                 NaN                 NaN            NaN  \n",
       "top                    NaN                 NaN            NaN  \n",
       "freq                   NaN                 NaN            NaN  \n",
       "mean              9.844506           12.668605    9263.968713  \n",
       "std               5.089093            4.125510    5023.065394  \n",
       "min               2.000000            3.000000      12.000000  \n",
       "25%               5.000000            9.000000    5823.000000  \n",
       "50%               9.000000           14.000000    8047.000000  \n",
       "75%              15.000000           16.000000   12054.000000  \n",
       "max              18.000000           18.000000   23961.000000  "
      ]
     },
     "execution_count": 153,
     "metadata": {},
     "output_type": "execute_result"
    }
   ],
   "source": [
    "# describe of the data\n",
    "combined.describe(include= \"all\")"
   ]
  },
  {
   "cell_type": "markdown",
   "id": "4be75625",
   "metadata": {},
   "source": [
    "* Age is binned.\n",
    "* If there is any popular PRODUCT ID - P00265242\n",
    "* Most of the transactions are done by Males.\n",
    "* People in the age bracket of 26-35 are purchasing more than the rest.\n",
    "* People from City Category B are purchasing the most.\n",
    "* The Purchase Variable has min of $12 and Max of 23961 dollars"
   ]
  },
  {
   "cell_type": "code",
   "execution_count": 154,
   "id": "fbab4276",
   "metadata": {},
   "outputs": [
    {
     "data": {
      "text/html": [
       "<div>\n",
       "<style scoped>\n",
       "    .dataframe tbody tr th:only-of-type {\n",
       "        vertical-align: middle;\n",
       "    }\n",
       "\n",
       "    .dataframe tbody tr th {\n",
       "        vertical-align: top;\n",
       "    }\n",
       "\n",
       "    .dataframe thead th {\n",
       "        text-align: right;\n",
       "    }\n",
       "</style>\n",
       "<table border=\"1\" class=\"dataframe\">\n",
       "  <thead>\n",
       "    <tr style=\"text-align: right;\">\n",
       "      <th></th>\n",
       "      <th>Missing Vals</th>\n",
       "      <th>Percentage</th>\n",
       "    </tr>\n",
       "  </thead>\n",
       "  <tbody>\n",
       "    <tr>\n",
       "      <th>Product_Category_3</th>\n",
       "      <td>545809</td>\n",
       "      <td>0.696481</td>\n",
       "    </tr>\n",
       "    <tr>\n",
       "      <th>Product_Category_2</th>\n",
       "      <td>245982</td>\n",
       "      <td>0.313886</td>\n",
       "    </tr>\n",
       "    <tr>\n",
       "      <th>Purchase</th>\n",
       "      <td>233599</td>\n",
       "      <td>0.298085</td>\n",
       "    </tr>\n",
       "    <tr>\n",
       "      <th>User_ID</th>\n",
       "      <td>0</td>\n",
       "      <td>0.000000</td>\n",
       "    </tr>\n",
       "    <tr>\n",
       "      <th>Product_ID</th>\n",
       "      <td>0</td>\n",
       "      <td>0.000000</td>\n",
       "    </tr>\n",
       "    <tr>\n",
       "      <th>Gender</th>\n",
       "      <td>0</td>\n",
       "      <td>0.000000</td>\n",
       "    </tr>\n",
       "    <tr>\n",
       "      <th>Age</th>\n",
       "      <td>0</td>\n",
       "      <td>0.000000</td>\n",
       "    </tr>\n",
       "    <tr>\n",
       "      <th>Occupation</th>\n",
       "      <td>0</td>\n",
       "      <td>0.000000</td>\n",
       "    </tr>\n",
       "    <tr>\n",
       "      <th>City_Category</th>\n",
       "      <td>0</td>\n",
       "      <td>0.000000</td>\n",
       "    </tr>\n",
       "    <tr>\n",
       "      <th>Stay_In_Current_City_Years</th>\n",
       "      <td>0</td>\n",
       "      <td>0.000000</td>\n",
       "    </tr>\n",
       "    <tr>\n",
       "      <th>Marital_Status</th>\n",
       "      <td>0</td>\n",
       "      <td>0.000000</td>\n",
       "    </tr>\n",
       "    <tr>\n",
       "      <th>Product_Category_1</th>\n",
       "      <td>0</td>\n",
       "      <td>0.000000</td>\n",
       "    </tr>\n",
       "  </tbody>\n",
       "</table>\n",
       "</div>"
      ],
      "text/plain": [
       "                            Missing Vals  Percentage\n",
       "Product_Category_3                545809    0.696481\n",
       "Product_Category_2                245982    0.313886\n",
       "Purchase                          233599    0.298085\n",
       "User_ID                                0    0.000000\n",
       "Product_ID                             0    0.000000\n",
       "Gender                                 0    0.000000\n",
       "Age                                    0    0.000000\n",
       "Occupation                             0    0.000000\n",
       "City_Category                          0    0.000000\n",
       "Stay_In_Current_City_Years             0    0.000000\n",
       "Marital_Status                         0    0.000000\n",
       "Product_Category_1                     0    0.000000"
      ]
     },
     "execution_count": 154,
     "metadata": {},
     "output_type": "execute_result"
    }
   ],
   "source": [
    "# Missing Values\n",
    "miss = combined.isnull().sum()\n",
    "percent = combined.isnull().sum()/combined.shape[0]\n",
    "\n",
    "df = {\"Missing Vals\":miss, \"Percentage\":percent}\n",
    "pd.DataFrame(df).sort_values(by = \"Percentage\", ascending = False)"
   ]
  },
  {
   "cell_type": "code",
   "execution_count": 155,
   "id": "acea534d",
   "metadata": {},
   "outputs": [
    {
     "data": {
      "application/javascript": [
       "\n",
       "        if (window._pyforest_update_imports_cell) { window._pyforest_update_imports_cell('import matplotlib.pyplot as plt\\nimport seaborn as sns'); }\n",
       "    "
      ],
      "text/plain": [
       "<IPython.core.display.Javascript object>"
      ]
     },
     "metadata": {},
     "output_type": "display_data"
    },
    {
     "data": {
      "application/javascript": [
       "\n",
       "        if (window._pyforest_update_imports_cell) { window._pyforest_update_imports_cell('import matplotlib.pyplot as plt\\nimport seaborn as sns'); }\n",
       "    "
      ],
      "text/plain": [
       "<IPython.core.display.Javascript object>"
      ]
     },
     "metadata": {},
     "output_type": "display_data"
    },
    {
     "data": {
      "image/png": "[encoded data removed]",
      "text/plain": [
       "<Figure size 1080x720 with 9 Axes>"
      ]
     },
     "metadata": {
      "needs_background": "light"
     },
     "output_type": "display_data"
    }
   ],
   "source": [
    "# Lets explore the data...\n",
    "train.hist(edgecolor=\"black\", figsize = (15, 10))\n",
    "plt.tight_layout()\n",
    "plt.show()"
   ]
  },
  {
   "cell_type": "markdown",
   "id": "bbe8cd2e",
   "metadata": {},
   "source": [
    "* 16 is the most preferred prod_cat for Customers in Prod Cat 3\n",
    "* Purchase is +vely Skewed.\n",
    "* Prod_Cat2 - 16, 8 appears to be the preferred ones.\n",
    "\n",
    "* We will explore this data more...\n"
   ]
  },
  {
   "cell_type": "code",
   "execution_count": 156,
   "id": "25d0e9aa",
   "metadata": {},
   "outputs": [
    {
     "data": {
      "text/plain": [
       "count    783667.000000\n",
       "mean          5.366196\n",
       "std           3.878160\n",
       "min           1.000000\n",
       "25%           1.000000\n",
       "50%           5.000000\n",
       "75%           8.000000\n",
       "max          20.000000\n",
       "Name: Product_Category_1, dtype: float64"
      ]
     },
     "execution_count": 156,
     "metadata": {},
     "output_type": "execute_result"
    }
   ],
   "source": [
    "# Product Category\n",
    "combined.Product_Category_1.describe()"
   ]
  },
  {
   "cell_type": "code",
   "execution_count": 157,
   "id": "a8de928f",
   "metadata": {},
   "outputs": [
    {
     "data": {
      "text/plain": [
       "count    537685.000000\n",
       "mean          9.844506\n",
       "std           5.089093\n",
       "min           2.000000\n",
       "25%           5.000000\n",
       "50%           9.000000\n",
       "75%          15.000000\n",
       "max          18.000000\n",
       "Name: Product_Category_2, dtype: float64"
      ]
     },
     "execution_count": 157,
     "metadata": {},
     "output_type": "execute_result"
    }
   ],
   "source": [
    "combined.Product_Category_2.describe()"
   ]
  },
  {
   "cell_type": "code",
   "execution_count": 158,
   "id": "b08eca16",
   "metadata": {},
   "outputs": [
    {
     "data": {
      "text/plain": [
       "0    16.0\n",
       "Name: Product_Category_3, dtype: float64"
      ]
     },
     "execution_count": 158,
     "metadata": {},
     "output_type": "execute_result"
    }
   ],
   "source": [
    "combined.Product_Category_1.mode(),\n",
    "combined.Product_Category_2.mode(), \n",
    "combined.Product_Category_3.mode()"
   ]
  },
  {
   "cell_type": "markdown",
   "id": "4fda44bd",
   "metadata": {},
   "source": [
    "* 5, 8 and 16 appear to be the most popular products"
   ]
  },
  {
   "cell_type": "code",
   "execution_count": 159,
   "id": "bf3e71a9",
   "metadata": {},
   "outputs": [],
   "source": [
    "# Split the Data in Num and Cat Variables\n",
    "num_cols = combined.select_dtypes(include = np.number).columns\n",
    "cat_cols = combined.select_dtypes(exclude = np.number).columns"
   ]
  },
  {
   "cell_type": "code",
   "execution_count": 160,
   "id": "94d8c4ff",
   "metadata": {},
   "outputs": [],
   "source": [
    "# Fix the Marital Status\n",
    "combined[\"Marital_Status\"]=combined.Marital_Status.astype(\"object\")"
   ]
  },
  {
   "cell_type": "code",
   "execution_count": 161,
   "id": "96f826b0",
   "metadata": {},
   "outputs": [
    {
     "name": "stdout",
     "output_type": "stream",
     "text": [
      "Index(['User_ID', 'Occupation', 'Marital_Status', 'Product_Category_1',\n",
      "       'Product_Category_2', 'Product_Category_3', 'Purchase'],\n",
      "      dtype='object')\n",
      "Index(['Product_ID', 'Gender', 'Age', 'City_Category',\n",
      "       'Stay_In_Current_City_Years'],\n",
      "      dtype='object')\n"
     ]
    },
    {
     "data": {
      "text/plain": [
       "(None, None)"
      ]
     },
     "execution_count": 161,
     "metadata": {},
     "output_type": "execute_result"
    }
   ],
   "source": [
    "print(num_cols), print(cat_cols)"
   ]
  },
  {
   "cell_type": "code",
   "execution_count": 162,
   "id": "7706ee80",
   "metadata": {},
   "outputs": [
    {
     "data": {
      "application/javascript": [
       "\n",
       "        if (window._pyforest_update_imports_cell) { window._pyforest_update_imports_cell('import matplotlib.pyplot as plt\\nimport seaborn as sns'); }\n",
       "    "
      ],
      "text/plain": [
       "<IPython.core.display.Javascript object>"
      ]
     },
     "metadata": {},
     "output_type": "display_data"
    },
    {
     "data": {
      "application/javascript": [
       "\n",
       "        if (window._pyforest_update_imports_cell) { window._pyforest_update_imports_cell('import matplotlib.pyplot as plt\\nimport seaborn as sns'); }\n",
       "    "
      ],
      "text/plain": [
       "<IPython.core.display.Javascript object>"
      ]
     },
     "metadata": {},
     "output_type": "display_data"
    },
    {
     "data": {
      "application/javascript": [
       "\n",
       "        if (window._pyforest_update_imports_cell) { window._pyforest_update_imports_cell('import matplotlib.pyplot as plt\\nimport seaborn as sns'); }\n",
       "    "
      ],
      "text/plain": [
       "<IPython.core.display.Javascript object>"
      ]
     },
     "metadata": {},
     "output_type": "display_data"
    },
    {
     "data": {
      "application/javascript": [
       "\n",
       "        if (window._pyforest_update_imports_cell) { window._pyforest_update_imports_cell('import matplotlib.pyplot as plt\\nimport seaborn as sns'); }\n",
       "    "
      ],
      "text/plain": [
       "<IPython.core.display.Javascript object>"
      ]
     },
     "metadata": {},
     "output_type": "display_data"
    },
    {
     "data": {
      "application/javascript": [
       "\n",
       "        if (window._pyforest_update_imports_cell) { window._pyforest_update_imports_cell('import matplotlib.pyplot as plt\\nimport seaborn as sns'); }\n",
       "    "
      ],
      "text/plain": [
       "<IPython.core.display.Javascript object>"
      ]
     },
     "metadata": {},
     "output_type": "display_data"
    },
    {
     "data": {
      "application/javascript": [
       "\n",
       "        if (window._pyforest_update_imports_cell) { window._pyforest_update_imports_cell('import matplotlib.pyplot as plt\\nimport seaborn as sns'); }\n",
       "    "
      ],
      "text/plain": [
       "<IPython.core.display.Javascript object>"
      ]
     },
     "metadata": {},
     "output_type": "display_data"
    },
    {
     "data": {
      "application/javascript": [
       "\n",
       "        if (window._pyforest_update_imports_cell) { window._pyforest_update_imports_cell('import matplotlib.pyplot as plt\\nimport seaborn as sns'); }\n",
       "    "
      ],
      "text/plain": [
       "<IPython.core.display.Javascript object>"
      ]
     },
     "metadata": {},
     "output_type": "display_data"
    },
    {
     "data": {
      "application/javascript": [
       "\n",
       "        if (window._pyforest_update_imports_cell) { window._pyforest_update_imports_cell('import matplotlib.pyplot as plt\\nimport seaborn as sns'); }\n",
       "    "
      ],
      "text/plain": [
       "<IPython.core.display.Javascript object>"
      ]
     },
     "metadata": {},
     "output_type": "display_data"
    },
    {
     "data": {
      "application/javascript": [
       "\n",
       "        if (window._pyforest_update_imports_cell) { window._pyforest_update_imports_cell('import matplotlib.pyplot as plt\\nimport seaborn as sns'); }\n",
       "    "
      ],
      "text/plain": [
       "<IPython.core.display.Javascript object>"
      ]
     },
     "metadata": {},
     "output_type": "display_data"
    },
    {
     "data": {
      "application/javascript": [
       "\n",
       "        if (window._pyforest_update_imports_cell) { window._pyforest_update_imports_cell('import matplotlib.pyplot as plt\\nimport seaborn as sns'); }\n",
       "    "
      ],
      "text/plain": [
       "<IPython.core.display.Javascript object>"
      ]
     },
     "metadata": {},
     "output_type": "display_data"
    },
    {
     "data": {
      "application/javascript": [
       "\n",
       "        if (window._pyforest_update_imports_cell) { window._pyforest_update_imports_cell('import matplotlib.pyplot as plt\\nimport seaborn as sns'); }\n",
       "    "
      ],
      "text/plain": [
       "<IPython.core.display.Javascript object>"
      ]
     },
     "metadata": {},
     "output_type": "display_data"
    },
    {
     "data": {
      "application/javascript": [
       "\n",
       "        if (window._pyforest_update_imports_cell) { window._pyforest_update_imports_cell('import matplotlib.pyplot as plt\\nimport seaborn as sns'); }\n",
       "    "
      ],
      "text/plain": [
       "<IPython.core.display.Javascript object>"
      ]
     },
     "metadata": {},
     "output_type": "display_data"
    },
    {
     "data": {
      "application/javascript": [
       "\n",
       "        if (window._pyforest_update_imports_cell) { window._pyforest_update_imports_cell('import matplotlib.pyplot as plt\\nimport seaborn as sns'); }\n",
       "    "
      ],
      "text/plain": [
       "<IPython.core.display.Javascript object>"
      ]
     },
     "metadata": {},
     "output_type": "display_data"
    },
    {
     "data": {
      "application/javascript": [
       "\n",
       "        if (window._pyforest_update_imports_cell) { window._pyforest_update_imports_cell('import matplotlib.pyplot as plt\\nimport seaborn as sns'); }\n",
       "    "
      ],
      "text/plain": [
       "<IPython.core.display.Javascript object>"
      ]
     },
     "metadata": {},
     "output_type": "display_data"
    },
    {
     "data": {
      "application/javascript": [
       "\n",
       "        if (window._pyforest_update_imports_cell) { window._pyforest_update_imports_cell('import matplotlib.pyplot as plt\\nimport seaborn as sns'); }\n",
       "    "
      ],
      "text/plain": [
       "<IPython.core.display.Javascript object>"
      ]
     },
     "metadata": {},
     "output_type": "display_data"
    },
    {
     "data": {
      "image/png": "[encoded data removed]",
      "text/plain": [
       "<Figure size 1080x432 with 4 Axes>"
      ]
     },
     "metadata": {
      "needs_background": "light"
     },
     "output_type": "display_data"
    }
   ],
   "source": [
    "# Plot the Categories...\n",
    "a=3\n",
    "b=2\n",
    "c=1\n",
    "#plt.figure(figsize=[12,10])\n",
    "for i in cat_cols[1:]:\n",
    "  plt.subplot(a,b,c)\n",
    "  sns.countplot(combined.loc[:,i])\n",
    "  plt.xlabel(i)\n",
    "  c=c+1\n",
    "plt.xticks(rotation=90)  \n",
    "plt.tight_layout()\n",
    "plt.show()"
   ]
  },
  {
   "cell_type": "markdown",
   "id": "1794a849",
   "metadata": {},
   "source": [
    "* Males are more than females in this data and hence, it is clear that most of the purchase is done by males only.\n",
    "* The most popular age bracket is 26-35 followed by 36-45\n",
    "* City Cat B then C followed by A in the descending order of Purchase.\n",
    "* Most of the people making purchase are Independent of any person in life.\n",
    "* Most of them have stayed for min 1 year...\n"
   ]
  },
  {
   "cell_type": "code",
   "execution_count": 163,
   "id": "dc04761c",
   "metadata": {},
   "outputs": [],
   "source": [
    "# Remove Special Character from Stay and Age\n",
    "combined['Stay_In_Current_City'] = combined.Stay_In_Current_City_Years.str.strip(\"+\").astype(\"float\")"
   ]
  },
  {
   "cell_type": "code",
   "execution_count": 164,
   "id": "91293d86",
   "metadata": {},
   "outputs": [],
   "source": [
    "# Same will done in Age...\n",
    "combined['Age'] = combined.Age.str.strip(\"+\")"
   ]
  },
  {
   "cell_type": "code",
   "execution_count": 165,
   "id": "d6c25ff0",
   "metadata": {},
   "outputs": [
    {
     "data": {
      "application/javascript": [
       "\n",
       "        if (window._pyforest_update_imports_cell) { window._pyforest_update_imports_cell('import matplotlib.pyplot as plt\\nimport seaborn as sns'); }\n",
       "    "
      ],
      "text/plain": [
       "<IPython.core.display.Javascript object>"
      ]
     },
     "metadata": {},
     "output_type": "display_data"
    },
    {
     "data": {
      "text/plain": [
       "<AxesSubplot:xlabel='Age', ylabel='count'>"
      ]
     },
     "execution_count": 165,
     "metadata": {},
     "output_type": "execute_result"
    },
    {
     "data": {
      "image/png": "[encoded data removed]",
      "text/plain": [
       "<Figure size 1080x432 with 1 Axes>"
      ]
     },
     "metadata": {
      "needs_background": "light"
     },
     "output_type": "display_data"
    }
   ],
   "source": [
    "# Check the Age var\n",
    "sns.countplot(x = \"Age\", data = combined)"
   ]
  },
  {
   "cell_type": "code",
   "execution_count": 166,
   "id": "bdb96df7",
   "metadata": {},
   "outputs": [
    {
     "data": {
      "application/javascript": [
       "\n",
       "        if (window._pyforest_update_imports_cell) { window._pyforest_update_imports_cell('import matplotlib.pyplot as plt\\nimport seaborn as sns'); }\n",
       "    "
      ],
      "text/plain": [
       "<IPython.core.display.Javascript object>"
      ]
     },
     "metadata": {},
     "output_type": "display_data"
    },
    {
     "data": {
      "application/javascript": [
       "\n",
       "        if (window._pyforest_update_imports_cell) { window._pyforest_update_imports_cell('import matplotlib.pyplot as plt\\nimport seaborn as sns'); }\n",
       "    "
      ],
      "text/plain": [
       "<IPython.core.display.Javascript object>"
      ]
     },
     "metadata": {},
     "output_type": "display_data"
    },
    {
     "data": {
      "application/javascript": [
       "\n",
       "        if (window._pyforest_update_imports_cell) { window._pyforest_update_imports_cell('import matplotlib.pyplot as plt\\nimport seaborn as sns'); }\n",
       "    "
      ],
      "text/plain": [
       "<IPython.core.display.Javascript object>"
      ]
     },
     "metadata": {},
     "output_type": "display_data"
    },
    {
     "data": {
      "image/png": "[encoded data removed]",
      "text/plain": [
       "<Figure size 1080x216 with 5 Axes>"
      ]
     },
     "metadata": {
      "needs_background": "light"
     },
     "output_type": "display_data"
    }
   ],
   "source": [
    "# Stay In City, Marital Status and Occupation has an effect on Tgt Variable...\n",
    "\n",
    "# FacetGrid Plot\n",
    "\n",
    "g = sns.FacetGrid(combined, col = \"Stay_In_Current_City\")\n",
    "g.map(sns.barplot, \"Occupation\", \"Purchase\")\n",
    "plt.show()\n",
    "\n",
    "#Inference: that there is no effect on \n",
    "#Purchase irrespective of the Marital Status, his stay in current city & Occupation..."
   ]
  },
  {
   "cell_type": "code",
   "execution_count": 45,
   "id": "bba44820",
   "metadata": {},
   "outputs": [
    {
     "data": {
      "application/javascript": [
       "\n",
       "        if (window._pyforest_update_imports_cell) { window._pyforest_update_imports_cell('import matplotlib.pyplot as plt\\nimport seaborn as sns'); }\n",
       "    "
      ],
      "text/plain": [
       "<IPython.core.display.Javascript object>"
      ]
     },
     "metadata": {},
     "output_type": "display_data"
    },
    {
     "data": {
      "text/plain": [
       "<AxesSubplot:xlabel='Occupation', ylabel='Purchase'>"
      ]
     },
     "execution_count": 45,
     "metadata": {},
     "output_type": "execute_result"
    },
    {
     "data": {
      "image/png": "[encoded data removed]",
      "text/plain": [
       "<Figure size 1080x432 with 1 Axes>"
      ]
     },
     "metadata": {
      "needs_background": "light"
     },
     "output_type": "display_data"
    }
   ],
   "source": [
    "# Check the Occupation vs Purchase\n",
    "sns.scatterplot(combined.Occupation, combined.Purchase)"
   ]
  },
  {
   "cell_type": "code",
   "execution_count": 46,
   "id": "4c6091c8",
   "metadata": {},
   "outputs": [
    {
     "data": {
      "application/javascript": [
       "\n",
       "        if (window._pyforest_update_imports_cell) { window._pyforest_update_imports_cell('import matplotlib.pyplot as plt\\nimport seaborn as sns'); }\n",
       "    "
      ],
      "text/plain": [
       "<IPython.core.display.Javascript object>"
      ]
     },
     "metadata": {},
     "output_type": "display_data"
    },
    {
     "data": {
      "application/javascript": [
       "\n",
       "        if (window._pyforest_update_imports_cell) { window._pyforest_update_imports_cell('import matplotlib.pyplot as plt\\nimport seaborn as sns'); }\n",
       "    "
      ],
      "text/plain": [
       "<IPython.core.display.Javascript object>"
      ]
     },
     "metadata": {},
     "output_type": "display_data"
    },
    {
     "data": {
      "image/png": "[encoded data removed]",
      "text/plain": [
       "<Figure size 432x432 with 3 Axes>"
      ]
     },
     "metadata": {
      "needs_background": "light"
     },
     "output_type": "display_data"
    }
   ],
   "source": [
    "# hexplot or jointplot\n",
    "\n",
    "sns.jointplot(x = \"Occupation\", y = \"Purchase\", data = combined, kind = \"hex\")\n",
    "plt.show()"
   ]
  },
  {
   "cell_type": "markdown",
   "id": "73d631ad",
   "metadata": {},
   "source": [
    "* Most of the Purchase is between 5000-10000 range.\n",
    "* The Occupation in the range 0-7 have the highest purchase where 4 appears to be the profession where people make the most of the purchases.\n",
    "\n",
    "#### How this Info can be used\n",
    "* Company can target Occupations between 0 - 7 and run marketing campaigns to encourage people to buy more."
   ]
  },
  {
   "cell_type": "code",
   "execution_count": 49,
   "id": "ecedbe60",
   "metadata": {},
   "outputs": [
    {
     "data": {
      "application/javascript": [
       "\n",
       "        if (window._pyforest_update_imports_cell) { window._pyforest_update_imports_cell('import matplotlib.pyplot as plt\\nimport seaborn as sns'); }\n",
       "    "
      ],
      "text/plain": [
       "<IPython.core.display.Javascript object>"
      ]
     },
     "metadata": {},
     "output_type": "display_data"
    },
    {
     "data": {
      "application/javascript": [
       "\n",
       "        if (window._pyforest_update_imports_cell) { window._pyforest_update_imports_cell('import matplotlib.pyplot as plt\\nimport seaborn as sns'); }\n",
       "    "
      ],
      "text/plain": [
       "<IPython.core.display.Javascript object>"
      ]
     },
     "metadata": {},
     "output_type": "display_data"
    },
    {
     "data": {
      "text/plain": [
       "<seaborn.axisgrid.FacetGrid at 0x7f7a7c261760>"
      ]
     },
     "execution_count": 49,
     "metadata": {},
     "output_type": "execute_result"
    },
    {
     "data": {
      "image/png": "[encoded data removed]",
      "text/plain": [
       "<Figure size 648x216 with 3 Axes>"
      ]
     },
     "metadata": {
      "needs_background": "light"
     },
     "output_type": "display_data"
    }
   ],
   "source": [
    "# Check City Category with Gender and Purchase...\n",
    "\n",
    "g = sns.FacetGrid(combined, col = \"City_Category\") # Facetgrid Object\n",
    "g.map(sns.barplot, \"Gender\", \"Purchase\") # func, x, y\n",
    "\n",
    "\n",
    "# We see that City Category C has the highest no of Purchases Witnessed.\n",
    "# For City Cat B & C, males tend to dominate the Purchase...\n",
    "# Where as in City A, we see that females are the biggest spenders..."
   ]
  },
  {
   "cell_type": "code",
   "execution_count": 50,
   "id": "3e2c631f",
   "metadata": {},
   "outputs": [
    {
     "data": {
      "application/javascript": [
       "\n",
       "        if (window._pyforest_update_imports_cell) { window._pyforest_update_imports_cell('import matplotlib.pyplot as plt\\nimport seaborn as sns'); }\n",
       "    "
      ],
      "text/plain": [
       "<IPython.core.display.Javascript object>"
      ]
     },
     "metadata": {},
     "output_type": "display_data"
    },
    {
     "data": {
      "application/javascript": [
       "\n",
       "        if (window._pyforest_update_imports_cell) { window._pyforest_update_imports_cell('import matplotlib.pyplot as plt\\nimport seaborn as sns'); }\n",
       "    "
      ],
      "text/plain": [
       "<IPython.core.display.Javascript object>"
      ]
     },
     "metadata": {},
     "output_type": "display_data"
    },
    {
     "data": {
      "application/javascript": [
       "\n",
       "        if (window._pyforest_update_imports_cell) { window._pyforest_update_imports_cell('import matplotlib.pyplot as plt\\nimport seaborn as sns'); }\n",
       "    "
      ],
      "text/plain": [
       "<IPython.core.display.Javascript object>"
      ]
     },
     "metadata": {},
     "output_type": "display_data"
    },
    {
     "data": {
      "image/png": "[encoded data removed]",
      "text/plain": [
       "<Figure size 1512x648 with 21 Axes>"
      ]
     },
     "metadata": {
      "needs_background": "light"
     },
     "output_type": "display_data"
    }
   ],
   "source": [
    "# Age, city category followed by Gender and Purchase.\n",
    "\n",
    "g = sns.FacetGrid(combined, row = \"City_Category\", col = \"Age\") # Facetgrid Object\n",
    "g.map(sns.barplot, \"Gender\", \"Purchase\") # func, x, y\n",
    "plt.show()"
   ]
  },
  {
   "cell_type": "markdown",
   "id": "6d263192",
   "metadata": {},
   "source": [
    "* There are two age groups in the City Cat_A 26-35 and 18-25 for which the females have made lot of purchases.\n",
    "* We can say that Age Bracket 26-35 and 18-25 in A City are the potential buyers..."
   ]
  },
  {
   "cell_type": "code",
   "execution_count": 57,
   "id": "e3df6ab9",
   "metadata": {},
   "outputs": [
    {
     "data": {
      "text/html": [
       "<div>\n",
       "<style scoped>\n",
       "    .dataframe tbody tr th:only-of-type {\n",
       "        vertical-align: middle;\n",
       "    }\n",
       "\n",
       "    .dataframe tbody tr th {\n",
       "        vertical-align: top;\n",
       "    }\n",
       "\n",
       "    .dataframe thead th {\n",
       "        text-align: right;\n",
       "    }\n",
       "</style>\n",
       "<table border=\"1\" class=\"dataframe\">\n",
       "  <thead>\n",
       "    <tr style=\"text-align: right;\">\n",
       "      <th></th>\n",
       "      <th>User_ID</th>\n",
       "      <th>Product_ID</th>\n",
       "      <th>Gender</th>\n",
       "      <th>Age</th>\n",
       "      <th>Occupation</th>\n",
       "      <th>City_Category</th>\n",
       "      <th>Stay_In_Current_City_Years</th>\n",
       "      <th>Marital_Status</th>\n",
       "      <th>Product_Category_1</th>\n",
       "      <th>Product_Category_2</th>\n",
       "      <th>Product_Category_3</th>\n",
       "      <th>Purchase</th>\n",
       "      <th>Stay_In_Current_City</th>\n",
       "    </tr>\n",
       "  </thead>\n",
       "  <tbody>\n",
       "    <tr>\n",
       "      <th>0</th>\n",
       "      <td>1000001</td>\n",
       "      <td>P00069042</td>\n",
       "      <td>F</td>\n",
       "      <td>0-17</td>\n",
       "      <td>10</td>\n",
       "      <td>A</td>\n",
       "      <td>2</td>\n",
       "      <td>0</td>\n",
       "      <td>3</td>\n",
       "      <td>NaN</td>\n",
       "      <td>NaN</td>\n",
       "      <td>8370.0</td>\n",
       "      <td>2.0</td>\n",
       "    </tr>\n",
       "    <tr>\n",
       "      <th>1</th>\n",
       "      <td>1000001</td>\n",
       "      <td>P00248942</td>\n",
       "      <td>F</td>\n",
       "      <td>0-17</td>\n",
       "      <td>10</td>\n",
       "      <td>A</td>\n",
       "      <td>2</td>\n",
       "      <td>0</td>\n",
       "      <td>1</td>\n",
       "      <td>6.0</td>\n",
       "      <td>14.0</td>\n",
       "      <td>15200.0</td>\n",
       "      <td>2.0</td>\n",
       "    </tr>\n",
       "    <tr>\n",
       "      <th>2</th>\n",
       "      <td>1000001</td>\n",
       "      <td>P00087842</td>\n",
       "      <td>F</td>\n",
       "      <td>0-17</td>\n",
       "      <td>10</td>\n",
       "      <td>A</td>\n",
       "      <td>2</td>\n",
       "      <td>0</td>\n",
       "      <td>12</td>\n",
       "      <td>NaN</td>\n",
       "      <td>NaN</td>\n",
       "      <td>1422.0</td>\n",
       "      <td>2.0</td>\n",
       "    </tr>\n",
       "    <tr>\n",
       "      <th>3</th>\n",
       "      <td>1000001</td>\n",
       "      <td>P00085442</td>\n",
       "      <td>F</td>\n",
       "      <td>0-17</td>\n",
       "      <td>10</td>\n",
       "      <td>A</td>\n",
       "      <td>2</td>\n",
       "      <td>0</td>\n",
       "      <td>12</td>\n",
       "      <td>14.0</td>\n",
       "      <td>NaN</td>\n",
       "      <td>1057.0</td>\n",
       "      <td>2.0</td>\n",
       "    </tr>\n",
       "    <tr>\n",
       "      <th>4</th>\n",
       "      <td>1000002</td>\n",
       "      <td>P00285442</td>\n",
       "      <td>M</td>\n",
       "      <td>55</td>\n",
       "      <td>16</td>\n",
       "      <td>C</td>\n",
       "      <td>4+</td>\n",
       "      <td>0</td>\n",
       "      <td>8</td>\n",
       "      <td>NaN</td>\n",
       "      <td>NaN</td>\n",
       "      <td>7969.0</td>\n",
       "      <td>4.0</td>\n",
       "    </tr>\n",
       "  </tbody>\n",
       "</table>\n",
       "</div>"
      ],
      "text/plain": [
       "   User_ID Product_ID Gender   Age  Occupation City_Category  \\\n",
       "0  1000001  P00069042      F  0-17          10             A   \n",
       "1  1000001  P00248942      F  0-17          10             A   \n",
       "2  1000001  P00087842      F  0-17          10             A   \n",
       "3  1000001  P00085442      F  0-17          10             A   \n",
       "4  1000002  P00285442      M    55          16             C   \n",
       "\n",
       "  Stay_In_Current_City_Years Marital_Status  Product_Category_1  \\\n",
       "0                          2              0                   3   \n",
       "1                          2              0                   1   \n",
       "2                          2              0                  12   \n",
       "3                          2              0                  12   \n",
       "4                         4+              0                   8   \n",
       "\n",
       "   Product_Category_2  Product_Category_3  Purchase  Stay_In_Current_City  \n",
       "0                 NaN                 NaN    8370.0                   2.0  \n",
       "1                 6.0                14.0   15200.0                   2.0  \n",
       "2                 NaN                 NaN    1422.0                   2.0  \n",
       "3                14.0                 NaN    1057.0                   2.0  \n",
       "4                 NaN                 NaN    7969.0                   4.0  "
      ]
     },
     "execution_count": 57,
     "metadata": {},
     "output_type": "execute_result"
    }
   ],
   "source": [
    "combined.head()"
   ]
  },
  {
   "cell_type": "code",
   "execution_count": 58,
   "id": "7fb9ba4b",
   "metadata": {},
   "outputs": [
    {
     "data": {
      "text/plain": [
       "count    783667.000000\n",
       "mean          5.366196\n",
       "std           3.878160\n",
       "min           1.000000\n",
       "25%           1.000000\n",
       "50%           5.000000\n",
       "75%           8.000000\n",
       "max          20.000000\n",
       "Name: Product_Category_1, dtype: float64"
      ]
     },
     "execution_count": 58,
     "metadata": {},
     "output_type": "execute_result"
    }
   ],
   "source": [
    "combined.Product_Category_1.describe()"
   ]
  },
  {
   "cell_type": "code",
   "execution_count": 167,
   "id": "03f4c9cf",
   "metadata": {},
   "outputs": [
    {
     "name": "stdout",
     "output_type": "stream",
     "text": [
      "0.0\n"
     ]
    }
   ],
   "source": [
    "# Deploying Statistical Test to Check the relation between marital stats and product_cat1\n",
    "\n",
    "# Ho: That Prod Cat is Independent of the Gender\n",
    "# Ha: That Prod Cat is Dependent on the Gender\n",
    "\n",
    "import scipy.stats as stats\n",
    "\n",
    "# Tabulate the Data\n",
    "tabulate = pd.crosstab(combined.Gender, combined.Product_Category_1)\n",
    "\n",
    "# Deploy the Test\n",
    "teststats, pvalue, df, exp_freq = stats.chi2_contingency(tabulate)\n",
    "\n",
    "# Print the Pvalue\n",
    "print(pvalue)"
   ]
  },
  {
   "cell_type": "code",
   "execution_count": 168,
   "id": "d2f51845",
   "metadata": {},
   "outputs": [
    {
     "data": {
      "text/plain": [
       "<AxesSubplot:xlabel='Gender'>"
      ]
     },
     "execution_count": 168,
     "metadata": {},
     "output_type": "execute_result"
    },
    {
     "data": {
      "image/png": "[encoded data removed]",
      "text/plain": [
       "<Figure size 1080x432 with 1 Axes>"
      ]
     },
     "metadata": {
      "needs_background": "light"
     },
     "output_type": "display_data"
    }
   ],
   "source": [
    "tabulate.plot(kind =\"bar\")"
   ]
  },
  {
   "cell_type": "code",
   "execution_count": 169,
   "id": "9a422dd7",
   "metadata": {},
   "outputs": [
    {
     "data": {
      "application/javascript": [
       "\n",
       "        if (window._pyforest_update_imports_cell) { window._pyforest_update_imports_cell('import matplotlib.pyplot as plt\\nimport seaborn as sns'); }\n",
       "    "
      ],
      "text/plain": [
       "<IPython.core.display.Javascript object>"
      ]
     },
     "metadata": {},
     "output_type": "display_data"
    },
    {
     "data": {
      "text/plain": [
       "<AxesSubplot:xlabel='Product_Category_3', ylabel='count'>"
      ]
     },
     "execution_count": 169,
     "metadata": {},
     "output_type": "execute_result"
    },
    {
     "data": {
      "image/png": "[encoded data removed]",
      "text/plain": [
       "<Figure size 1080x432 with 1 Axes>"
      ]
     },
     "metadata": {
      "needs_background": "light"
     },
     "output_type": "display_data"
    }
   ],
   "source": [
    "# With Product Category, Take Where the Gender == Male, Product Category median value\n",
    "\n",
    "sns.countplot(combined.Product_Category_3)"
   ]
  },
  {
   "cell_type": "code",
   "execution_count": 76,
   "id": "4672fb34",
   "metadata": {},
   "outputs": [
    {
     "data": {
      "text/plain": [
       "count    53621.000000\n",
       "mean        12.463475\n",
       "std          4.125628\n",
       "min          3.000000\n",
       "25%          9.000000\n",
       "50%         14.000000\n",
       "75%         16.000000\n",
       "max         18.000000\n",
       "Name: Product_Category_3, dtype: float64"
      ]
     },
     "execution_count": 76,
     "metadata": {},
     "output_type": "execute_result"
    }
   ],
   "source": [
    "combined.loc[combined.Gender==\"F\", \"Product_Category_3\"].describe()"
   ]
  },
  {
   "cell_type": "code",
   "execution_count": 170,
   "id": "46e8220a",
   "metadata": {},
   "outputs": [
    {
     "name": "stdout",
     "output_type": "stream",
     "text": [
      "0.0\n"
     ]
    }
   ],
   "source": [
    "# Does City Category has any role in Product Category\n",
    "\n",
    "# Ho: That Prod Cat is Independent of the City Category\n",
    "# Ha: That Prod Cat is Dependent on the City Category\n",
    "\n",
    "import scipy.stats as stats\n",
    "\n",
    "# Tabulate the Data\n",
    "tabulate = pd.crosstab(combined.City_Category, combined.Product_Category_1)\n",
    "\n",
    "# Deploy the Test\n",
    "teststats, pvalue, df, exp_freq = stats.chi2_contingency(tabulate)\n",
    "\n",
    "# Print the Pvalue\n",
    "print(pvalue)"
   ]
  },
  {
   "cell_type": "code",
   "execution_count": 78,
   "id": "43eab298",
   "metadata": {},
   "outputs": [
    {
     "data": {
      "text/plain": [
       "<AxesSubplot:xlabel='City_Category'>"
      ]
     },
     "execution_count": 78,
     "metadata": {},
     "output_type": "execute_result"
    },
    {
     "data": {
      "image/png": "[encoded data removed]",
      "text/plain": [
       "<Figure size 1080x432 with 1 Axes>"
      ]
     },
     "metadata": {
      "needs_background": "light"
     },
     "output_type": "display_data"
    }
   ],
   "source": [
    "tabulate.plot(kind = \"bar\")"
   ]
  },
  {
   "cell_type": "code",
   "execution_count": 171,
   "id": "7de6cbd4",
   "metadata": {},
   "outputs": [
    {
     "data": {
      "text/html": [
       "<div>\n",
       "<style scoped>\n",
       "    .dataframe tbody tr th:only-of-type {\n",
       "        vertical-align: middle;\n",
       "    }\n",
       "\n",
       "    .dataframe tbody tr th {\n",
       "        vertical-align: top;\n",
       "    }\n",
       "\n",
       "    .dataframe thead th {\n",
       "        text-align: right;\n",
       "    }\n",
       "</style>\n",
       "<table border=\"1\" class=\"dataframe\">\n",
       "  <thead>\n",
       "    <tr style=\"text-align: right;\">\n",
       "      <th></th>\n",
       "      <th></th>\n",
       "      <th>count</th>\n",
       "      <th>mean</th>\n",
       "      <th>std</th>\n",
       "      <th>min</th>\n",
       "      <th>25%</th>\n",
       "      <th>50%</th>\n",
       "      <th>75%</th>\n",
       "      <th>max</th>\n",
       "    </tr>\n",
       "    <tr>\n",
       "      <th>City_Category</th>\n",
       "      <th>Gender</th>\n",
       "      <th></th>\n",
       "      <th></th>\n",
       "      <th></th>\n",
       "      <th></th>\n",
       "      <th></th>\n",
       "      <th></th>\n",
       "      <th></th>\n",
       "      <th></th>\n",
       "    </tr>\n",
       "  </thead>\n",
       "  <tbody>\n",
       "    <tr>\n",
       "      <th rowspan=\"2\" valign=\"top\">A</th>\n",
       "      <th>F</th>\n",
       "      <td>33582.0</td>\n",
       "      <td>10.124710</td>\n",
       "      <td>4.798571</td>\n",
       "      <td>2.0</td>\n",
       "      <td>6.0</td>\n",
       "      <td>11.0</td>\n",
       "      <td>14.0</td>\n",
       "      <td>18.0</td>\n",
       "    </tr>\n",
       "    <tr>\n",
       "      <th>M</th>\n",
       "      <td>106543.0</td>\n",
       "      <td>9.895713</td>\n",
       "      <td>5.092870</td>\n",
       "      <td>2.0</td>\n",
       "      <td>5.0</td>\n",
       "      <td>9.0</td>\n",
       "      <td>15.0</td>\n",
       "      <td>18.0</td>\n",
       "    </tr>\n",
       "    <tr>\n",
       "      <th rowspan=\"2\" valign=\"top\">B</th>\n",
       "      <th>F</th>\n",
       "      <td>55225.0</td>\n",
       "      <td>9.994006</td>\n",
       "      <td>4.853629</td>\n",
       "      <td>2.0</td>\n",
       "      <td>5.0</td>\n",
       "      <td>10.0</td>\n",
       "      <td>14.0</td>\n",
       "      <td>18.0</td>\n",
       "    </tr>\n",
       "    <tr>\n",
       "      <th>M</th>\n",
       "      <td>169990.0</td>\n",
       "      <td>9.768433</td>\n",
       "      <td>5.148369</td>\n",
       "      <td>2.0</td>\n",
       "      <td>5.0</td>\n",
       "      <td>9.0</td>\n",
       "      <td>15.0</td>\n",
       "      <td>18.0</td>\n",
       "    </tr>\n",
       "    <tr>\n",
       "      <th rowspan=\"2\" valign=\"top\">C</th>\n",
       "      <th>F</th>\n",
       "      <td>42014.0</td>\n",
       "      <td>9.923502</td>\n",
       "      <td>4.950752</td>\n",
       "      <td>2.0</td>\n",
       "      <td>5.0</td>\n",
       "      <td>10.0</td>\n",
       "      <td>14.0</td>\n",
       "      <td>18.0</td>\n",
       "    </tr>\n",
       "    <tr>\n",
       "      <th>M</th>\n",
       "      <td>130331.0</td>\n",
       "      <td>9.740852</td>\n",
       "      <td>5.215808</td>\n",
       "      <td>2.0</td>\n",
       "      <td>5.0</td>\n",
       "      <td>9.0</td>\n",
       "      <td>15.0</td>\n",
       "      <td>18.0</td>\n",
       "    </tr>\n",
       "  </tbody>\n",
       "</table>\n",
       "</div>"
      ],
      "text/plain": [
       "                         count       mean       std  min  25%   50%   75%  \\\n",
       "City_Category Gender                                                        \n",
       "A             F        33582.0  10.124710  4.798571  2.0  6.0  11.0  14.0   \n",
       "              M       106543.0   9.895713  5.092870  2.0  5.0   9.0  15.0   \n",
       "B             F        55225.0   9.994006  4.853629  2.0  5.0  10.0  14.0   \n",
       "              M       169990.0   9.768433  5.148369  2.0  5.0   9.0  15.0   \n",
       "C             F        42014.0   9.923502  4.950752  2.0  5.0  10.0  14.0   \n",
       "              M       130331.0   9.740852  5.215808  2.0  5.0   9.0  15.0   \n",
       "\n",
       "                       max  \n",
       "City_Category Gender        \n",
       "A             F       18.0  \n",
       "              M       18.0  \n",
       "B             F       18.0  \n",
       "              M       18.0  \n",
       "C             F       18.0  \n",
       "              M       18.0  "
      ]
     },
     "execution_count": 171,
     "metadata": {},
     "output_type": "execute_result"
    }
   ],
   "source": [
    "combined.groupby([\"City_Category\", \"Gender\"])[\"Product_Category_2\"].describe()"
   ]
  },
  {
   "cell_type": "code",
   "execution_count": 172,
   "id": "c95c7e5d",
   "metadata": {},
   "outputs": [],
   "source": [
    "# Impute the Missing Values in Prod_Cat_2\n",
    "\n",
    "# City Condition\n",
    "ca = combined.City_Category==\"A\"\n",
    "cb = combined.City_Category==\"B\"\n",
    "cc = combined.City_Category==\"C\"\n",
    "\n",
    "\n",
    "# Gender\n",
    "c_m = combined.Gender==\"M\"\n",
    "c_f = combined.Gender==\"F\"\n",
    "\n",
    "combined.loc[(ca) & (c_m) &(combined[\"Product_Category_2\"].isnull()), \n",
    "             \"Product_Category_2\"] = 9.0\n",
    "\n",
    "combined.loc[(ca) & (c_f) &(combined[\"Product_Category_2\"].isnull()), \n",
    "             \"Product_Category_2\"]=11.0\n",
    "\n",
    "combined.loc[(cb) & (c_m) &(combined[\"Product_Category_2\"].isnull()),\n",
    "             \"Product_Category_2\"]=9.0\n",
    "\n",
    "combined.loc[(cb) & (c_f) &(combined[\"Product_Category_2\"].isnull()),\n",
    "             \"Product_Category_2\"]=10.0\n",
    "\n",
    "combined.loc[(cc) & (c_m) &(combined[\"Product_Category_2\"].isnull()),\n",
    "             \"Product_Category_2\"]=9.0\n",
    "combined.loc[(cc) & (c_f) &(combined[\"Product_Category_2\"].isnull()),\n",
    "             \"Product_Category_2\"]=10.0"
   ]
  },
  {
   "cell_type": "code",
   "execution_count": 173,
   "id": "f05694f8",
   "metadata": {},
   "outputs": [
    {
     "data": {
      "text/plain": [
       "User_ID                            0\n",
       "Product_ID                         0\n",
       "Gender                             0\n",
       "Age                                0\n",
       "Occupation                         0\n",
       "City_Category                      0\n",
       "Stay_In_Current_City_Years         0\n",
       "Marital_Status                     0\n",
       "Product_Category_1                 0\n",
       "Product_Category_2                 0\n",
       "Product_Category_3            545809\n",
       "Purchase                      233599\n",
       "Stay_In_Current_City               0\n",
       "dtype: int64"
      ]
     },
     "execution_count": 173,
     "metadata": {},
     "output_type": "execute_result"
    }
   ],
   "source": [
    "combined.isnull().sum()"
   ]
  },
  {
   "cell_type": "code",
   "execution_count": 174,
   "id": "fb163804",
   "metadata": {},
   "outputs": [],
   "source": [
    "# Imputate the missing value in catergory 2\n",
    "ca=combined.City_Category=='A'\n",
    "cb=combined.City_Category=='B'\n",
    "cc=combined.City_Category=='C'\n",
    "\n",
    "# Gender\n",
    "c_m=combined.Gender=='M'\n",
    "c_f=combined.Gender=='F'\n",
    "\n",
    "combined.loc[(ca) & (c_m) &(combined[\"Product_Category_3\"].isnull()), \n",
    "             \"Product_Category_3\"] = 15.0\n",
    "\n",
    "combined.loc[(ca) & (c_f) &(combined[\"Product_Category_3\"].isnull()), \n",
    "             \"Product_Category_3\"]=14.0\n",
    "\n",
    "combined.loc[(cb) & (c_m) &(combined[\"Product_Category_3\"].isnull()),\n",
    "             \"Product_Category_3\"]=15.0\n",
    "\n",
    "combined.loc[(cb) & (c_f)&(combined[\"Product_Category_3\"].isnull()),\n",
    "             \"Product_Category_3\"]=14.0\n",
    "\n",
    "combined.loc[(cc) & (c_m)&(combined[\"Product_Category_3\"].isnull()),\n",
    "             \"Product_Category_3\"]=15.0\n",
    "\n",
    "combined.loc[(cc) & (c_f)&(combined[\"Product_Category_3\"].isnull()),\n",
    "             \"Product_Category_3\"]=14.0"
   ]
  },
  {
   "cell_type": "code",
   "execution_count": 175,
   "id": "bbb35c73",
   "metadata": {},
   "outputs": [
    {
     "data": {
      "text/plain": [
       "User_ID                            0\n",
       "Product_ID                         0\n",
       "Gender                             0\n",
       "Age                                0\n",
       "Occupation                         0\n",
       "City_Category                      0\n",
       "Stay_In_Current_City_Years         0\n",
       "Marital_Status                     0\n",
       "Product_Category_1                 0\n",
       "Product_Category_2                 0\n",
       "Product_Category_3                 0\n",
       "Purchase                      233599\n",
       "Stay_In_Current_City               0\n",
       "dtype: int64"
      ]
     },
     "execution_count": 175,
     "metadata": {},
     "output_type": "execute_result"
    }
   ],
   "source": [
    "combined.isnull().sum()"
   ]
  },
  {
   "cell_type": "code",
   "execution_count": 116,
   "id": "271ada42",
   "metadata": {},
   "outputs": [
    {
     "data": {
      "text/html": [
       "<div>\n",
       "<style scoped>\n",
       "    .dataframe tbody tr th:only-of-type {\n",
       "        vertical-align: middle;\n",
       "    }\n",
       "\n",
       "    .dataframe tbody tr th {\n",
       "        vertical-align: top;\n",
       "    }\n",
       "\n",
       "    .dataframe thead th {\n",
       "        text-align: right;\n",
       "    }\n",
       "</style>\n",
       "<table border=\"1\" class=\"dataframe\">\n",
       "  <thead>\n",
       "    <tr style=\"text-align: right;\">\n",
       "      <th></th>\n",
       "      <th>User_ID</th>\n",
       "      <th>Product_ID</th>\n",
       "      <th>Gender</th>\n",
       "      <th>Age</th>\n",
       "      <th>Occupation</th>\n",
       "      <th>City_Category</th>\n",
       "      <th>Stay_In_Current_City_Years</th>\n",
       "      <th>Marital_Status</th>\n",
       "      <th>Product_Category_1</th>\n",
       "      <th>Product_Category_2</th>\n",
       "      <th>Product_Category_3</th>\n",
       "      <th>Purchase</th>\n",
       "      <th>Stay_In_Current_City</th>\n",
       "    </tr>\n",
       "  </thead>\n",
       "  <tbody>\n",
       "    <tr>\n",
       "      <th>0</th>\n",
       "      <td>1000001</td>\n",
       "      <td>P00069042</td>\n",
       "      <td>F</td>\n",
       "      <td>0-17</td>\n",
       "      <td>10</td>\n",
       "      <td>A</td>\n",
       "      <td>2</td>\n",
       "      <td>0</td>\n",
       "      <td>3</td>\n",
       "      <td>11.0</td>\n",
       "      <td>14.0</td>\n",
       "      <td>8370.0</td>\n",
       "      <td>2.0</td>\n",
       "    </tr>\n",
       "    <tr>\n",
       "      <th>1</th>\n",
       "      <td>1000001</td>\n",
       "      <td>P00248942</td>\n",
       "      <td>F</td>\n",
       "      <td>0-17</td>\n",
       "      <td>10</td>\n",
       "      <td>A</td>\n",
       "      <td>2</td>\n",
       "      <td>0</td>\n",
       "      <td>1</td>\n",
       "      <td>6.0</td>\n",
       "      <td>14.0</td>\n",
       "      <td>15200.0</td>\n",
       "      <td>2.0</td>\n",
       "    </tr>\n",
       "    <tr>\n",
       "      <th>2</th>\n",
       "      <td>1000001</td>\n",
       "      <td>P00087842</td>\n",
       "      <td>F</td>\n",
       "      <td>0-17</td>\n",
       "      <td>10</td>\n",
       "      <td>A</td>\n",
       "      <td>2</td>\n",
       "      <td>0</td>\n",
       "      <td>12</td>\n",
       "      <td>11.0</td>\n",
       "      <td>14.0</td>\n",
       "      <td>1422.0</td>\n",
       "      <td>2.0</td>\n",
       "    </tr>\n",
       "    <tr>\n",
       "      <th>3</th>\n",
       "      <td>1000001</td>\n",
       "      <td>P00085442</td>\n",
       "      <td>F</td>\n",
       "      <td>0-17</td>\n",
       "      <td>10</td>\n",
       "      <td>A</td>\n",
       "      <td>2</td>\n",
       "      <td>0</td>\n",
       "      <td>12</td>\n",
       "      <td>14.0</td>\n",
       "      <td>14.0</td>\n",
       "      <td>1057.0</td>\n",
       "      <td>2.0</td>\n",
       "    </tr>\n",
       "    <tr>\n",
       "      <th>4</th>\n",
       "      <td>1000002</td>\n",
       "      <td>P00285442</td>\n",
       "      <td>M</td>\n",
       "      <td>55</td>\n",
       "      <td>16</td>\n",
       "      <td>C</td>\n",
       "      <td>4+</td>\n",
       "      <td>0</td>\n",
       "      <td>8</td>\n",
       "      <td>9.0</td>\n",
       "      <td>15.0</td>\n",
       "      <td>7969.0</td>\n",
       "      <td>4.0</td>\n",
       "    </tr>\n",
       "  </tbody>\n",
       "</table>\n",
       "</div>"
      ],
      "text/plain": [
       "   User_ID Product_ID Gender   Age  Occupation City_Category  \\\n",
       "0  1000001  P00069042      F  0-17          10             A   \n",
       "1  1000001  P00248942      F  0-17          10             A   \n",
       "2  1000001  P00087842      F  0-17          10             A   \n",
       "3  1000001  P00085442      F  0-17          10             A   \n",
       "4  1000002  P00285442      M    55          16             C   \n",
       "\n",
       "  Stay_In_Current_City_Years Marital_Status  Product_Category_1  \\\n",
       "0                          2              0                   3   \n",
       "1                          2              0                   1   \n",
       "2                          2              0                  12   \n",
       "3                          2              0                  12   \n",
       "4                         4+              0                   8   \n",
       "\n",
       "   Product_Category_2  Product_Category_3  Purchase  Stay_In_Current_City  \n",
       "0                11.0                14.0    8370.0                   2.0  \n",
       "1                 6.0                14.0   15200.0                   2.0  \n",
       "2                11.0                14.0    1422.0                   2.0  \n",
       "3                14.0                14.0    1057.0                   2.0  \n",
       "4                 9.0                15.0    7969.0                   4.0  "
      ]
     },
     "execution_count": 116,
     "metadata": {},
     "output_type": "execute_result"
    }
   ],
   "source": [
    "combined.head()"
   ]
  },
  {
   "cell_type": "code",
   "execution_count": 176,
   "id": "f6f6700b",
   "metadata": {},
   "outputs": [],
   "source": [
    "# Top5 Products\n",
    "prod = combined.Product_ID.value_counts().index[:5]"
   ]
  },
  {
   "cell_type": "code",
   "execution_count": 177,
   "id": "b86a10db",
   "metadata": {},
   "outputs": [],
   "source": [
    "def products(x):\n",
    "    if x in prod:\n",
    "        return(\"Top5\")\n",
    "    else:\n",
    "        return(\"Others\")"
   ]
  },
  {
   "cell_type": "code",
   "execution_count": 178,
   "id": "0bb8196b",
   "metadata": {},
   "outputs": [],
   "source": [
    "combined[\"Prod_ID\"] = combined.Product_ID.apply(products)"
   ]
  },
  {
   "cell_type": "code",
   "execution_count": 179,
   "id": "4e8ed4d1",
   "metadata": {},
   "outputs": [
    {
     "data": {
      "application/javascript": [
       "\n",
       "        if (window._pyforest_update_imports_cell) { window._pyforest_update_imports_cell('import matplotlib.pyplot as plt\\nimport seaborn as sns'); }\n",
       "    "
      ],
      "text/plain": [
       "<IPython.core.display.Javascript object>"
      ]
     },
     "metadata": {},
     "output_type": "display_data"
    },
    {
     "data": {
      "text/plain": [
       "<AxesSubplot:xlabel='Prod_ID', ylabel='Purchase'>"
      ]
     },
     "execution_count": 179,
     "metadata": {},
     "output_type": "execute_result"
    },
    {
     "data": {
      "image/png": "[encoded data removed]",
      "text/plain": [
       "<Figure size 1080x432 with 1 Axes>"
      ]
     },
     "metadata": {
      "needs_background": "light"
     },
     "output_type": "display_data"
    }
   ],
   "source": [
    "sns.boxplot(x = \"Prod_ID\", y = \"Purchase\", data = combined)"
   ]
  },
  {
   "cell_type": "markdown",
   "id": "f3b42a1a",
   "metadata": {},
   "source": [
    "### Dropping the Unnecessary Variables"
   ]
  },
  {
   "cell_type": "code",
   "execution_count": 180,
   "id": "f1d38226",
   "metadata": {},
   "outputs": [
    {
     "data": {
      "text/plain": [
       "Index(['User_ID', 'Product_ID', 'Gender', 'Age', 'Occupation', 'City_Category',\n",
       "       'Stay_In_Current_City_Years', 'Marital_Status', 'Product_Category_1',\n",
       "       'Product_Category_2', 'Product_Category_3', 'Purchase',\n",
       "       'Stay_In_Current_City', 'Prod_ID'],\n",
       "      dtype='object')"
      ]
     },
     "execution_count": 180,
     "metadata": {},
     "output_type": "execute_result"
    }
   ],
   "source": [
    "combined.columns"
   ]
  },
  {
   "cell_type": "code",
   "execution_count": 181,
   "id": "9394eeba",
   "metadata": {},
   "outputs": [],
   "source": [
    "new = combined.drop(['User_ID', 'Product_ID', 'Stay_In_Current_City_Years'], axis = 1)"
   ]
  },
  {
   "cell_type": "code",
   "execution_count": 182,
   "id": "b36d0cd1",
   "metadata": {},
   "outputs": [
    {
     "data": {
      "text/html": [
       "<div>\n",
       "<style scoped>\n",
       "    .dataframe tbody tr th:only-of-type {\n",
       "        vertical-align: middle;\n",
       "    }\n",
       "\n",
       "    .dataframe tbody tr th {\n",
       "        vertical-align: top;\n",
       "    }\n",
       "\n",
       "    .dataframe thead th {\n",
       "        text-align: right;\n",
       "    }\n",
       "</style>\n",
       "<table border=\"1\" class=\"dataframe\">\n",
       "  <thead>\n",
       "    <tr style=\"text-align: right;\">\n",
       "      <th></th>\n",
       "      <th>Gender</th>\n",
       "      <th>Age</th>\n",
       "      <th>Occupation</th>\n",
       "      <th>City_Category</th>\n",
       "      <th>Marital_Status</th>\n",
       "      <th>Product_Category_1</th>\n",
       "      <th>Product_Category_2</th>\n",
       "      <th>Product_Category_3</th>\n",
       "      <th>Purchase</th>\n",
       "      <th>Stay_In_Current_City</th>\n",
       "      <th>Prod_ID</th>\n",
       "    </tr>\n",
       "  </thead>\n",
       "  <tbody>\n",
       "    <tr>\n",
       "      <th>0</th>\n",
       "      <td>F</td>\n",
       "      <td>0-17</td>\n",
       "      <td>10</td>\n",
       "      <td>A</td>\n",
       "      <td>0</td>\n",
       "      <td>3</td>\n",
       "      <td>11.0</td>\n",
       "      <td>14.0</td>\n",
       "      <td>8370.0</td>\n",
       "      <td>2.0</td>\n",
       "      <td>Others</td>\n",
       "    </tr>\n",
       "    <tr>\n",
       "      <th>1</th>\n",
       "      <td>F</td>\n",
       "      <td>0-17</td>\n",
       "      <td>10</td>\n",
       "      <td>A</td>\n",
       "      <td>0</td>\n",
       "      <td>1</td>\n",
       "      <td>6.0</td>\n",
       "      <td>14.0</td>\n",
       "      <td>15200.0</td>\n",
       "      <td>2.0</td>\n",
       "      <td>Others</td>\n",
       "    </tr>\n",
       "    <tr>\n",
       "      <th>2</th>\n",
       "      <td>F</td>\n",
       "      <td>0-17</td>\n",
       "      <td>10</td>\n",
       "      <td>A</td>\n",
       "      <td>0</td>\n",
       "      <td>12</td>\n",
       "      <td>11.0</td>\n",
       "      <td>14.0</td>\n",
       "      <td>1422.0</td>\n",
       "      <td>2.0</td>\n",
       "      <td>Others</td>\n",
       "    </tr>\n",
       "    <tr>\n",
       "      <th>3</th>\n",
       "      <td>F</td>\n",
       "      <td>0-17</td>\n",
       "      <td>10</td>\n",
       "      <td>A</td>\n",
       "      <td>0</td>\n",
       "      <td>12</td>\n",
       "      <td>14.0</td>\n",
       "      <td>14.0</td>\n",
       "      <td>1057.0</td>\n",
       "      <td>2.0</td>\n",
       "      <td>Others</td>\n",
       "    </tr>\n",
       "    <tr>\n",
       "      <th>4</th>\n",
       "      <td>M</td>\n",
       "      <td>55</td>\n",
       "      <td>16</td>\n",
       "      <td>C</td>\n",
       "      <td>0</td>\n",
       "      <td>8</td>\n",
       "      <td>9.0</td>\n",
       "      <td>15.0</td>\n",
       "      <td>7969.0</td>\n",
       "      <td>4.0</td>\n",
       "      <td>Others</td>\n",
       "    </tr>\n",
       "  </tbody>\n",
       "</table>\n",
       "</div>"
      ],
      "text/plain": [
       "  Gender   Age  Occupation City_Category Marital_Status  Product_Category_1  \\\n",
       "0      F  0-17          10             A              0                   3   \n",
       "1      F  0-17          10             A              0                   1   \n",
       "2      F  0-17          10             A              0                  12   \n",
       "3      F  0-17          10             A              0                  12   \n",
       "4      M    55          16             C              0                   8   \n",
       "\n",
       "   Product_Category_2  Product_Category_3  Purchase  Stay_In_Current_City  \\\n",
       "0                11.0                14.0    8370.0                   2.0   \n",
       "1                 6.0                14.0   15200.0                   2.0   \n",
       "2                11.0                14.0    1422.0                   2.0   \n",
       "3                14.0                14.0    1057.0                   2.0   \n",
       "4                 9.0                15.0    7969.0                   4.0   \n",
       "\n",
       "  Prod_ID  \n",
       "0  Others  \n",
       "1  Others  \n",
       "2  Others  \n",
       "3  Others  \n",
       "4  Others  "
      ]
     },
     "execution_count": 182,
     "metadata": {},
     "output_type": "execute_result"
    }
   ],
   "source": [
    "new.head()"
   ]
  },
  {
   "cell_type": "code",
   "execution_count": 183,
   "id": "f1a9c4c3",
   "metadata": {},
   "outputs": [
    {
     "data": {
      "text/plain": [
       "array(['0-17', '55', '26-35', '46-50', '51-55', '36-45', '18-25'],\n",
       "      dtype=object)"
      ]
     },
     "execution_count": 183,
     "metadata": {},
     "output_type": "execute_result"
    }
   ],
   "source": [
    "new.Age.unique()"
   ]
  },
  {
   "cell_type": "code",
   "execution_count": 184,
   "id": "5214e494",
   "metadata": {},
   "outputs": [],
   "source": [
    "# Label Encoding\n",
    "\n",
    "from sklearn.preprocessing import LabelEncoder\n",
    "\n",
    "le = LabelEncoder()\n",
    "\n",
    "new[\"Age_Encoded\"] = le.fit_transform(new.Age)"
   ]
  },
  {
   "cell_type": "code",
   "execution_count": 185,
   "id": "48e426ac",
   "metadata": {},
   "outputs": [],
   "source": [
    "# Applying pd.get_dummies\n",
    "\n",
    "dummydata = pd.get_dummies(new.drop(\"Age\", axis=1), drop_first=True)"
   ]
  },
  {
   "cell_type": "code",
   "execution_count": 186,
   "id": "e612826e",
   "metadata": {},
   "outputs": [
    {
     "name": "stdout",
     "output_type": "stream",
     "text": [
      "(550068, 12) (233599, 12)\n"
     ]
    }
   ],
   "source": [
    "# Split the Data in newtrain and newtest\n",
    "\n",
    "newtrain = dummydata.loc[0:train.shape[0]-1, :]\n",
    "newtest = dummydata.loc[train.shape[0]:, :]\n",
    "\n",
    "print(newtrain.shape, newtest.shape)"
   ]
  },
  {
   "cell_type": "code",
   "execution_count": 187,
   "id": "a7e564c9",
   "metadata": {},
   "outputs": [
    {
     "data": {
      "text/plain": [
       "((550068, 12), (233599, 11))"
      ]
     },
     "execution_count": 187,
     "metadata": {},
     "output_type": "execute_result"
    }
   ],
   "source": [
    "train.shape, test.shape"
   ]
  },
  {
   "cell_type": "code",
   "execution_count": 188,
   "id": "3c46ff3d",
   "metadata": {},
   "outputs": [],
   "source": [
    "# Drop the Purchase variable from new test and define the X and y\n",
    "\n",
    "newtest = newtest.drop(\"Purchase\", axis = 1)\n",
    "X = newtrain.drop(\"Purchase\", axis = 1)\n",
    "y = newtrain.Purchase"
   ]
  },
  {
   "cell_type": "markdown",
   "id": "7d90ba24",
   "metadata": {},
   "source": [
    "### Model Building"
   ]
  },
  {
   "cell_type": "code",
   "execution_count": 240,
   "id": "39d8e285",
   "metadata": {},
   "outputs": [],
   "source": [
    "import xgboost as xgb\n",
    "from sklearn.linear_model import LinearRegression\n",
    "from sklearn.tree import DecisionTreeRegressor\n",
    "from sklearn.ensemble import VotingRegressor, BaggingRegressor, RandomForestRegressor, AdaBoostRegressor, GradientBoostingRegressor\n",
    "#import lightgbm as lgbm\n",
    "\n",
    "# Models\n",
    "lr = LinearRegression()\n",
    "dtree = DecisionTreeRegressor()\n",
    "rf = RandomForestRegressor()\n",
    "gbm = GradientBoostingRegressor()\n",
    "ada = AdaBoostRegressor()\n",
    "bag = BaggingRegressor()\n",
    "xgb_r = xgb.XGBRegressor()\n",
    "#lgbr = lgbm.LGBMRegressor()"
   ]
  },
  {
   "cell_type": "code",
   "execution_count": 194,
   "id": "59f7d633",
   "metadata": {},
   "outputs": [],
   "source": [
    "# Linear Regression\n",
    "\n",
    "pred_lr = lr.fit(X, y).predict(newtest)\n",
    "solution = pd.DataFrame({\"Purchase\":pred_lr, \n",
    "                         \"User_ID\":test.User_ID, \"Product_ID\": test.Product_ID})\n",
    "solution.to_csv(\"LRMODEL.csv\", index=False) # 4687.193511838603"
   ]
  },
  {
   "cell_type": "code",
   "execution_count": 195,
   "id": "b6bc96dc",
   "metadata": {},
   "outputs": [
    {
     "name": "stdout",
     "output_type": "stream",
     "text": [
      "/Users/mukulchauhan\n"
     ]
    }
   ],
   "source": [
    "cd"
   ]
  },
  {
   "cell_type": "code",
   "execution_count": 196,
   "id": "d4c60830",
   "metadata": {},
   "outputs": [],
   "source": [
    "# Decision Tree Model\n",
    "\n",
    "pred_tree = dtree.fit(X, y).predict(newtest)\n",
    "solution = pd.DataFrame({\"Purchase\":pred_tree, \n",
    "                         \"User_ID\":test.User_ID, \"Product_ID\": test.Product_ID})\n",
    "solution.to_csv(\"TREEMODEL.csv\", index=False) # 3256.1745641335124"
   ]
  },
  {
   "cell_type": "code",
   "execution_count": 230,
   "id": "a19ab711",
   "metadata": {},
   "outputs": [],
   "source": [
    "# Random Forest Model\n",
    "\n",
    "pred_rf = rf.fit(X, y).predict(newtest)\n",
    "solution = pd.DataFrame({\"Purchase\":pred_rf, \n",
    "                         \"User_ID\":test.User_ID, \"Product_ID\": test.Product_ID})\n",
    "solution.to_csv(\"RFMODEL.csv\", index=False) # 3008.490038248746"
   ]
  },
  {
   "cell_type": "code",
   "execution_count": 231,
   "id": "9dacc803",
   "metadata": {},
   "outputs": [],
   "source": [
    "# Bagging Regressor\n",
    "\n",
    "pred_bag = bag.fit(X, y).predict(newtest)\n",
    "solution = pd.DataFrame({\"Purchase\":pred_bag, \n",
    "                         \"User_ID\":test.User_ID, \"Product_ID\": test.Product_ID})\n",
    "solution.to_csv(\"BAGMODEL.csv\", index=False) # 3046.0216137657508"
   ]
  },
  {
   "cell_type": "code",
   "execution_count": 232,
   "id": "df612385",
   "metadata": {},
   "outputs": [],
   "source": [
    "# ADABOOST Regressor\n",
    "\n",
    "pred_ada = ada.fit(X, y).predict(newtest)\n",
    "solution = pd.DataFrame({\"Purchase\":pred_ada, \n",
    "                         \"User_ID\":test.User_ID, \"Product_ID\": test.Product_ID})\n",
    "solution.to_csv(\"ADAMODEL.csv\", index=False) # 3822 "
   ]
  },
  {
   "cell_type": "code",
   "execution_count": 235,
   "id": "8b18f0ab",
   "metadata": {},
   "outputs": [],
   "source": [
    "# GBM Regressor\n",
    "\n",
    "pred_gbm = gbm.fit(X, y).predict(newtest)\n",
    "solution = pd.DataFrame({\"Purchase\":pred_gbm, \n",
    "                         \"User_ID\":test.User_ID, \"Product_ID\": test.Product_ID})\n",
    "solution.to_csv(\"GBMMODEL.csv\", index=False) # 2980"
   ]
  },
  {
   "cell_type": "code",
   "execution_count": 241,
   "id": "3990172a",
   "metadata": {},
   "outputs": [],
   "source": [
    "# XGBM\n",
    "\n",
    "pred_xgbr = xgb_r.fit(X, y).predict(newtest)\n",
    "solution = pd.DataFrame({\"Purchase\":pred_xgbr, \n",
    "                         \"User_ID\":test.User_ID, \"Product_ID\": test.Product_ID})\n",
    "solution.to_csv(\"XGBMODEL.csv\", index=False) # 2866"
   ]
  },
  {
   "cell_type": "markdown",
   "id": "b55b4120",
   "metadata": {},
   "source": [
    "#### Tuning the XGBRegressor"
   ]
  },
  {
   "cell_type": "code",
   "execution_count": 242,
   "id": "bab7948c",
   "metadata": {},
   "outputs": [],
   "source": [
    "from sklearn.model_selection import GridSearchCV\n",
    "\n",
    "params = [{\"learning_rate\":[0.1, 0.2, 0.01, 0.3, 0.5],\n",
    "          \"max_depth\":[4, 5, 6, 8]}]\n",
    "\n",
    "xgb_r = xgb.XGBRegressor()"
   ]
  },
  {
   "cell_type": "code",
   "execution_count": 243,
   "id": "7a02d1d0",
   "metadata": {},
   "outputs": [
    {
     "name": "stdout",
     "output_type": "stream",
     "text": [
      "{'learning_rate': 0.3, 'max_depth': 8}\n"
     ]
    }
   ],
   "source": [
    "# ...sshhh the machine is learning...\n",
    "grid = GridSearchCV(estimator=xgb_r, param_grid=params, cv = 5)\n",
    "\n",
    "# Fitting the Grid Search Model\n",
    "grid.fit(X, y)\n",
    "\n",
    "#Printing the best parameters..\n",
    "print(grid.best_params_)"
   ]
  },
  {
   "cell_type": "code",
   "execution_count": 244,
   "id": "8fc45811",
   "metadata": {},
   "outputs": [],
   "source": [
    "# Lets Build a Tuned Model\n",
    "xgb_r = xgb.XGBRegressor(learning_rate = 0.3, max_depth = 8)\n",
    "\n",
    "pred_xgbr = xgb_r.fit(X, y).predict(newtest)\n",
    "solution = pd.DataFrame({\"Purchase\":pred_xgbr, \n",
    "                         \"User_ID\":test.User_ID, \"Product_ID\": test.Product_ID})\n",
    "solution.to_csv(\"XGBTunedMODEL.csv\", index=False) # 2838"
   ]
  },
  {
   "cell_type": "code",
   "execution_count": 251,
   "id": "4f05eae9",
   "metadata": {},
   "outputs": [],
   "source": [
    "df = pd.DataFrame(data = xgb_r.feature_importances_, \n",
    "                  columns = [\"Feat_imp\"], index = xgb_r.feature_names_in_)"
   ]
  },
  {
   "cell_type": "code",
   "execution_count": 255,
   "id": "77576170",
   "metadata": {},
   "outputs": [
    {
     "data": {
      "text/plain": [
       "<AxesSubplot:>"
      ]
     },
     "execution_count": 255,
     "metadata": {},
     "output_type": "execute_result"
    },
    {
     "data": {
      "image/png": "[encoded data removed]",
      "text/plain": [
       "<Figure size 1080x432 with 1 Axes>"
      ]
     },
     "metadata": {
      "needs_background": "light"
     },
     "output_type": "display_data"
    }
   ],
   "source": [
    "df.sort_values(by = \"Feat_imp\", ascending = False,kind = \"quicksort\").plot(kind = \"bar\")"
   ]
  },
  {
   "cell_type": "code",
   "execution_count": 257,
   "id": "8c175e08",
   "metadata": {},
   "outputs": [],
   "source": [
    "# Selecting Top2 Features\n",
    "subset = X.loc[:, [\"Product_Category_1\", \"Prod_ID_Top5\"]]"
   ]
  },
  {
   "cell_type": "code",
   "execution_count": 259,
   "id": "3654916d",
   "metadata": {},
   "outputs": [],
   "source": [
    "# Lets Build a Tuned Model on Subset of the Data\n",
    "xgb_r = xgb.XGBRegressor(learning_rate = 0.3, max_depth = 8)\n",
    "\n",
    "pred_xgbr = xgb_r.fit(subset, y).predict(newtest.loc[:, [\"Product_Category_1\", \n",
    "                                                         \"Prod_ID_Top5\"]])\n",
    "solution = pd.DataFrame({\"Purchase\":pred_xgbr, \n",
    "                         \"User_ID\":test.User_ID, \"Product_ID\": test.Product_ID})\n",
    "solution.to_csv(\"XGBSubsetMODEL.csv\", index=False) # 3026"
   ]
  },
  {
   "cell_type": "markdown",
   "id": "024bc54e",
   "metadata": {},
   "source": [
    "#### Cross Validation Model - XGB"
   ]
  },
  {
   "cell_type": "code",
   "execution_count": 264,
   "id": "167e62ca",
   "metadata": {},
   "outputs": [],
   "source": [
    "#from sklearn.model_selection import KFold\n",
    "\n",
    "kfold = KFold(n_splits = 5, shuffle = True)\n",
    "\n",
    "xgbr = xgb.XGBRegressor(learning_rate = 0.3, max_depth = 8)\n",
    "pred_model = pd.DataFrame()\n",
    "\n",
    "n = 10\n",
    "for i in range(n):\n",
    "    folds = next(kfold.split(X)) # Splitting the data in even groups...\n",
    "    xtrain = X.iloc[folds[0]]\n",
    "    ytrain = y.iloc[folds[0]]\n",
    "    pred_model[i] = xgbr.fit(xtrain, ytrain).predict(newtest)  "
   ]
  },
  {
   "cell_type": "code",
   "execution_count": 265,
   "id": "d53cb561",
   "metadata": {},
   "outputs": [],
   "source": [
    "XGB_cv = pred_model.mean(axis=1)\n",
    "\n",
    "solution = pd.DataFrame({\"Purchase\":XGB_cv, \n",
    "                         \"User_ID\":test.User_ID, \"Product_ID\": test.Product_ID})\n",
    "solution.to_csv(\"XGB_CV25.csv\", index=False) # 2831"
   ]
  },
  {
   "cell_type": "code",
   "execution_count": 268,
   "id": "2aac9574",
   "metadata": {},
   "outputs": [],
   "source": [
    "import catboost as cb\n",
    "\n",
    "cbr = cb.CatBoostRegressor()"
   ]
  },
  {
   "cell_type": "code",
   "execution_count": 269,
   "id": "eab15c7d",
   "metadata": {},
   "outputs": [
    {
     "name": "stdout",
     "output_type": "stream",
     "text": [
      "Learning rate set to 0.11096\n",
      "0:\tlearn: 4743.3164109\ttotal: 93ms\tremaining: 1m 32s\n",
      "1:\tlearn: 4509.9435925\ttotal: 118ms\tremaining: 58.6s\n",
      "2:\tlearn: 4318.6480236\ttotal: 137ms\tremaining: 45.7s\n",
      "3:\tlearn: 4153.9704907\ttotal: 158ms\tremaining: 39.3s\n",
      "4:\tlearn: 4025.9940315\ttotal: 185ms\tremaining: 36.8s\n",
      "5:\tlearn: 3882.3180983\ttotal: 205ms\tremaining: 33.9s\n",
      "6:\tlearn: 3774.4159025\ttotal: 229ms\tremaining: 32.5s\n",
      "7:\tlearn: 3666.4427000\ttotal: 250ms\tremaining: 30.9s\n",
      "8:\tlearn: 3589.1164146\ttotal: 275ms\tremaining: 30.3s\n",
      "9:\tlearn: 3510.9221412\ttotal: 298ms\tremaining: 29.5s\n",
      "10:\tlearn: 3451.7912062\ttotal: 324ms\tremaining: 29.2s\n",
      "11:\tlearn: 3390.9060933\ttotal: 351ms\tremaining: 28.9s\n",
      "12:\tlearn: 3337.0398680\ttotal: 386ms\tremaining: 29.3s\n",
      "13:\tlearn: 3297.3821928\ttotal: 426ms\tremaining: 30s\n",
      "14:\tlearn: 3270.9100269\ttotal: 491ms\tremaining: 32.2s\n",
      "15:\tlearn: 3242.5667386\ttotal: 545ms\tremaining: 33.5s\n",
      "16:\tlearn: 3222.4533411\ttotal: 592ms\tremaining: 34.2s\n",
      "17:\tlearn: 3206.2059255\ttotal: 639ms\tremaining: 34.9s\n",
      "18:\tlearn: 3193.3431867\ttotal: 674ms\tremaining: 34.8s\n",
      "19:\tlearn: 3181.1998058\ttotal: 705ms\tremaining: 34.5s\n",
      "20:\tlearn: 3165.1871043\ttotal: 735ms\tremaining: 34.3s\n",
      "21:\tlearn: 3143.1682497\ttotal: 765ms\tremaining: 34s\n",
      "22:\tlearn: 3124.4463104\ttotal: 788ms\tremaining: 33.5s\n",
      "23:\tlearn: 3112.6119505\ttotal: 817ms\tremaining: 33.2s\n",
      "24:\tlearn: 3103.3481203\ttotal: 845ms\tremaining: 33s\n",
      "25:\tlearn: 3088.4667730\ttotal: 869ms\tremaining: 32.5s\n",
      "26:\tlearn: 3082.8093947\ttotal: 891ms\tremaining: 32.1s\n",
      "27:\tlearn: 3075.1734252\ttotal: 917ms\tremaining: 31.9s\n",
      "28:\tlearn: 3070.7494197\ttotal: 941ms\tremaining: 31.5s\n",
      "29:\tlearn: 3060.2026386\ttotal: 967ms\tremaining: 31.3s\n",
      "30:\tlearn: 3056.7156435\ttotal: 990ms\tremaining: 31s\n",
      "31:\tlearn: 3052.8375169\ttotal: 1.02s\tremaining: 30.8s\n",
      "32:\tlearn: 3050.1397162\ttotal: 1.05s\tremaining: 30.7s\n",
      "33:\tlearn: 3042.0376130\ttotal: 1.07s\tremaining: 30.5s\n",
      "34:\tlearn: 3039.6033568\ttotal: 1.1s\tremaining: 30.4s\n",
      "35:\tlearn: 3034.3147801\ttotal: 1.13s\tremaining: 30.3s\n",
      "36:\tlearn: 3030.7873035\ttotal: 1.16s\tremaining: 30.2s\n",
      "37:\tlearn: 3027.0927347\ttotal: 1.19s\tremaining: 30.1s\n",
      "38:\tlearn: 3024.7329287\ttotal: 1.23s\tremaining: 30.2s\n",
      "39:\tlearn: 3021.9533528\ttotal: 1.28s\tremaining: 30.6s\n",
      "40:\tlearn: 3015.9133374\ttotal: 1.31s\tremaining: 30.7s\n",
      "41:\tlearn: 3014.1854622\ttotal: 1.34s\tremaining: 30.5s\n",
      "42:\tlearn: 3012.3510166\ttotal: 1.36s\tremaining: 30.4s\n",
      "43:\tlearn: 3009.4016882\ttotal: 1.39s\tremaining: 30.3s\n",
      "44:\tlearn: 3007.8297039\ttotal: 1.43s\tremaining: 30.3s\n",
      "45:\tlearn: 3006.5572890\ttotal: 1.46s\tremaining: 30.2s\n",
      "46:\tlearn: 3004.2618822\ttotal: 1.49s\tremaining: 30.1s\n",
      "47:\tlearn: 3002.5711164\ttotal: 1.51s\tremaining: 30s\n",
      "48:\tlearn: 2998.1259863\ttotal: 1.54s\tremaining: 29.9s\n",
      "49:\tlearn: 2996.8985180\ttotal: 1.57s\tremaining: 29.8s\n",
      "50:\tlearn: 2995.5443598\ttotal: 1.59s\tremaining: 29.6s\n",
      "51:\tlearn: 2991.8262516\ttotal: 1.62s\tremaining: 29.5s\n",
      "52:\tlearn: 2987.7729411\ttotal: 1.65s\tremaining: 29.5s\n",
      "53:\tlearn: 2986.6502188\ttotal: 1.68s\tremaining: 29.4s\n",
      "54:\tlearn: 2985.8572934\ttotal: 1.71s\tremaining: 29.3s\n",
      "55:\tlearn: 2983.6700594\ttotal: 1.74s\tremaining: 29.3s\n",
      "56:\tlearn: 2981.5587030\ttotal: 1.76s\tremaining: 29.2s\n",
      "57:\tlearn: 2979.9320790\ttotal: 1.79s\tremaining: 29.1s\n",
      "58:\tlearn: 2979.0304000\ttotal: 1.82s\tremaining: 29s\n",
      "59:\tlearn: 2976.8609562\ttotal: 1.85s\tremaining: 28.9s\n",
      "60:\tlearn: 2976.0985690\ttotal: 1.88s\tremaining: 28.9s\n",
      "61:\tlearn: 2973.9960541\ttotal: 1.91s\tremaining: 28.9s\n",
      "62:\tlearn: 2973.1336942\ttotal: 1.94s\tremaining: 28.8s\n",
      "63:\tlearn: 2972.1429691\ttotal: 1.97s\tremaining: 28.8s\n",
      "64:\tlearn: 2971.4295595\ttotal: 2s\tremaining: 28.8s\n",
      "65:\tlearn: 2970.3551076\ttotal: 2.03s\tremaining: 28.7s\n",
      "66:\tlearn: 2968.2189782\ttotal: 2.06s\tremaining: 28.7s\n",
      "67:\tlearn: 2967.5047187\ttotal: 2.09s\tremaining: 28.6s\n",
      "68:\tlearn: 2966.4126453\ttotal: 2.12s\tremaining: 28.6s\n",
      "69:\tlearn: 2965.1137516\ttotal: 2.15s\tremaining: 28.5s\n",
      "70:\tlearn: 2964.3791837\ttotal: 2.17s\tremaining: 28.4s\n",
      "71:\tlearn: 2963.7895661\ttotal: 2.2s\tremaining: 28.4s\n",
      "72:\tlearn: 2962.9992485\ttotal: 2.23s\tremaining: 28.3s\n",
      "73:\tlearn: 2962.1387949\ttotal: 2.26s\tremaining: 28.2s\n",
      "74:\tlearn: 2961.4812192\ttotal: 2.28s\tremaining: 28.2s\n",
      "75:\tlearn: 2960.9407919\ttotal: 2.31s\tremaining: 28.2s\n",
      "76:\tlearn: 2959.8699774\ttotal: 2.35s\tremaining: 28.2s\n",
      "77:\tlearn: 2958.9054211\ttotal: 2.38s\tremaining: 28.2s\n",
      "78:\tlearn: 2958.4813805\ttotal: 2.41s\tremaining: 28.1s\n",
      "79:\tlearn: 2957.2477372\ttotal: 2.44s\tremaining: 28.1s\n",
      "80:\tlearn: 2956.6751941\ttotal: 2.47s\tremaining: 28.1s\n",
      "81:\tlearn: 2956.0517945\ttotal: 2.5s\tremaining: 28s\n",
      "82:\tlearn: 2955.6139700\ttotal: 2.53s\tremaining: 27.9s\n",
      "83:\tlearn: 2955.1618473\ttotal: 2.56s\tremaining: 27.9s\n",
      "84:\tlearn: 2954.3711265\ttotal: 2.59s\tremaining: 27.9s\n",
      "85:\tlearn: 2953.9944516\ttotal: 2.61s\tremaining: 27.8s\n",
      "86:\tlearn: 2953.1101085\ttotal: 2.64s\tremaining: 27.7s\n",
      "87:\tlearn: 2952.7255361\ttotal: 2.67s\tremaining: 27.6s\n",
      "88:\tlearn: 2951.9017484\ttotal: 2.69s\tremaining: 27.6s\n",
      "89:\tlearn: 2951.3579625\ttotal: 2.73s\tremaining: 27.6s\n",
      "90:\tlearn: 2951.0436436\ttotal: 2.75s\tremaining: 27.5s\n",
      "91:\tlearn: 2950.6643420\ttotal: 2.78s\tremaining: 27.5s\n",
      "92:\tlearn: 2950.1624130\ttotal: 2.81s\tremaining: 27.4s\n",
      "93:\tlearn: 2949.6423146\ttotal: 2.84s\tremaining: 27.4s\n",
      "94:\tlearn: 2949.0516619\ttotal: 2.87s\tremaining: 27.3s\n",
      "95:\tlearn: 2948.3528876\ttotal: 2.89s\tremaining: 27.2s\n",
      "96:\tlearn: 2947.7476384\ttotal: 2.92s\tremaining: 27.2s\n",
      "97:\tlearn: 2946.9637823\ttotal: 2.95s\tremaining: 27.2s\n",
      "98:\tlearn: 2946.3418934\ttotal: 2.99s\tremaining: 27.2s\n",
      "99:\tlearn: 2945.3880568\ttotal: 3.02s\tremaining: 27.1s\n",
      "100:\tlearn: 2944.9647800\ttotal: 3.04s\tremaining: 27.1s\n",
      "101:\tlearn: 2944.6999933\ttotal: 3.07s\tremaining: 27s\n",
      "102:\tlearn: 2944.1281747\ttotal: 3.1s\tremaining: 27s\n",
      "103:\tlearn: 2943.4166476\ttotal: 3.12s\tremaining: 26.9s\n",
      "104:\tlearn: 2943.2093201\ttotal: 3.15s\tremaining: 26.8s\n",
      "105:\tlearn: 2942.7374266\ttotal: 3.18s\tremaining: 26.8s\n",
      "106:\tlearn: 2942.2233006\ttotal: 3.21s\tremaining: 26.8s\n",
      "107:\tlearn: 2941.7464196\ttotal: 3.24s\tremaining: 26.8s\n",
      "108:\tlearn: 2941.5102467\ttotal: 3.27s\tremaining: 26.7s\n",
      "109:\tlearn: 2940.6236283\ttotal: 3.3s\tremaining: 26.7s\n",
      "110:\tlearn: 2940.2589400\ttotal: 3.32s\tremaining: 26.6s\n",
      "111:\tlearn: 2940.0260717\ttotal: 3.35s\tremaining: 26.5s\n",
      "112:\tlearn: 2939.7821819\ttotal: 3.37s\tremaining: 26.5s\n",
      "113:\tlearn: 2939.4415298\ttotal: 3.4s\tremaining: 26.4s\n",
      "114:\tlearn: 2938.9874674\ttotal: 3.42s\tremaining: 26.3s\n",
      "115:\tlearn: 2938.4063829\ttotal: 3.45s\tremaining: 26.3s\n",
      "116:\tlearn: 2937.8917869\ttotal: 3.48s\tremaining: 26.3s\n",
      "117:\tlearn: 2937.6409158\ttotal: 3.51s\tremaining: 26.2s\n",
      "118:\tlearn: 2936.9637287\ttotal: 3.54s\tremaining: 26.2s\n",
      "119:\tlearn: 2936.6639227\ttotal: 3.56s\tremaining: 26.1s\n",
      "120:\tlearn: 2936.1682456\ttotal: 3.59s\tremaining: 26.1s\n",
      "121:\tlearn: 2935.5206913\ttotal: 3.62s\tremaining: 26s\n",
      "122:\tlearn: 2935.2721964\ttotal: 3.64s\tremaining: 26s\n",
      "123:\tlearn: 2934.7751308\ttotal: 3.67s\tremaining: 25.9s\n",
      "124:\tlearn: 2934.4533628\ttotal: 3.7s\tremaining: 25.9s\n",
      "125:\tlearn: 2933.9134249\ttotal: 3.73s\tremaining: 25.8s\n",
      "126:\tlearn: 2933.6734681\ttotal: 3.75s\tremaining: 25.8s\n",
      "127:\tlearn: 2933.1956544\ttotal: 3.78s\tremaining: 25.7s\n",
      "128:\tlearn: 2932.8046120\ttotal: 3.81s\tremaining: 25.7s\n",
      "129:\tlearn: 2932.4196850\ttotal: 3.83s\tremaining: 25.7s\n",
      "130:\tlearn: 2931.8064094\ttotal: 3.86s\tremaining: 25.6s\n",
      "131:\tlearn: 2931.4659622\ttotal: 3.88s\tremaining: 25.5s\n",
      "132:\tlearn: 2931.2016418\ttotal: 3.91s\tremaining: 25.5s\n",
      "133:\tlearn: 2931.0300348\ttotal: 3.94s\tremaining: 25.4s\n",
      "134:\tlearn: 2930.7275811\ttotal: 3.97s\tremaining: 25.4s\n",
      "135:\tlearn: 2930.0184992\ttotal: 3.99s\tremaining: 25.4s\n",
      "136:\tlearn: 2929.7983759\ttotal: 4.02s\tremaining: 25.3s\n",
      "137:\tlearn: 2929.4265269\ttotal: 4.05s\tremaining: 25.3s\n",
      "138:\tlearn: 2929.0890575\ttotal: 4.08s\tremaining: 25.3s\n",
      "139:\tlearn: 2928.8322701\ttotal: 4.1s\tremaining: 25.2s\n",
      "140:\tlearn: 2928.3583889\ttotal: 4.13s\tremaining: 25.2s\n",
      "141:\tlearn: 2928.1261501\ttotal: 4.16s\tremaining: 25.1s\n",
      "142:\tlearn: 2927.7871773\ttotal: 4.18s\tremaining: 25.1s\n",
      "143:\tlearn: 2927.1323603\ttotal: 4.21s\tremaining: 25s\n",
      "144:\tlearn: 2926.9094253\ttotal: 4.24s\tremaining: 25s\n",
      "145:\tlearn: 2926.3625688\ttotal: 4.27s\tremaining: 25s\n",
      "146:\tlearn: 2926.0619020\ttotal: 4.29s\tremaining: 24.9s\n",
      "147:\tlearn: 2925.7667385\ttotal: 4.32s\tremaining: 24.9s\n",
      "148:\tlearn: 2925.6067666\ttotal: 4.34s\tremaining: 24.8s\n",
      "149:\tlearn: 2925.3341373\ttotal: 4.37s\tremaining: 24.8s\n",
      "150:\tlearn: 2925.1294258\ttotal: 4.4s\tremaining: 24.8s\n",
      "151:\tlearn: 2924.6702163\ttotal: 4.43s\tremaining: 24.7s\n",
      "152:\tlearn: 2924.3046348\ttotal: 4.46s\tremaining: 24.7s\n",
      "153:\tlearn: 2923.8503336\ttotal: 4.49s\tremaining: 24.7s\n",
      "154:\tlearn: 2923.6959572\ttotal: 4.52s\tremaining: 24.6s\n",
      "155:\tlearn: 2923.4191077\ttotal: 4.54s\tremaining: 24.6s\n",
      "156:\tlearn: 2922.9932044\ttotal: 4.57s\tremaining: 24.5s\n",
      "157:\tlearn: 2922.5893374\ttotal: 4.6s\tremaining: 24.5s\n",
      "158:\tlearn: 2922.4425306\ttotal: 4.63s\tremaining: 24.5s\n",
      "159:\tlearn: 2922.0773513\ttotal: 4.66s\tremaining: 24.4s\n",
      "160:\tlearn: 2921.6781262\ttotal: 4.68s\tremaining: 24.4s\n",
      "161:\tlearn: 2921.3753168\ttotal: 4.71s\tremaining: 24.4s\n",
      "162:\tlearn: 2921.1662087\ttotal: 4.74s\tremaining: 24.3s\n",
      "163:\tlearn: 2920.9791516\ttotal: 4.76s\tremaining: 24.3s\n",
      "164:\tlearn: 2920.5532464\ttotal: 4.79s\tremaining: 24.3s\n",
      "165:\tlearn: 2920.1616375\ttotal: 4.82s\tremaining: 24.2s\n",
      "166:\tlearn: 2919.9865233\ttotal: 4.85s\tremaining: 24.2s\n",
      "167:\tlearn: 2919.8531067\ttotal: 4.87s\tremaining: 24.1s\n",
      "168:\tlearn: 2919.6060092\ttotal: 4.9s\tremaining: 24.1s\n",
      "169:\tlearn: 2919.4295004\ttotal: 4.92s\tremaining: 24s\n",
      "170:\tlearn: 2919.2352712\ttotal: 4.95s\tremaining: 24s\n",
      "171:\tlearn: 2919.0739333\ttotal: 4.97s\tremaining: 24s\n",
      "172:\tlearn: 2918.7884481\ttotal: 5s\tremaining: 23.9s\n",
      "173:\tlearn: 2918.6691801\ttotal: 5.03s\tremaining: 23.9s\n",
      "174:\tlearn: 2918.5580644\ttotal: 5.05s\tremaining: 23.8s\n",
      "175:\tlearn: 2918.2141393\ttotal: 5.08s\tremaining: 23.8s\n",
      "176:\tlearn: 2918.0726289\ttotal: 5.11s\tremaining: 23.8s\n",
      "177:\tlearn: 2917.7624852\ttotal: 5.14s\tremaining: 23.7s\n",
      "178:\tlearn: 2917.7073081\ttotal: 5.16s\tremaining: 23.7s\n",
      "179:\tlearn: 2917.3765244\ttotal: 5.19s\tremaining: 23.6s\n",
      "180:\tlearn: 2917.2508250\ttotal: 5.21s\tremaining: 23.6s\n",
      "181:\tlearn: 2917.0813961\ttotal: 5.24s\tremaining: 23.6s\n",
      "182:\tlearn: 2916.9465414\ttotal: 5.27s\tremaining: 23.5s\n",
      "183:\tlearn: 2916.7199895\ttotal: 5.3s\tremaining: 23.5s\n",
      "184:\tlearn: 2916.5875013\ttotal: 5.32s\tremaining: 23.5s\n",
      "185:\tlearn: 2916.2690462\ttotal: 5.35s\tremaining: 23.4s\n",
      "186:\tlearn: 2915.8126830\ttotal: 5.38s\tremaining: 23.4s\n",
      "187:\tlearn: 2915.5138635\ttotal: 5.41s\tremaining: 23.4s\n",
      "188:\tlearn: 2915.4229512\ttotal: 5.44s\tremaining: 23.3s\n",
      "189:\tlearn: 2915.0693439\ttotal: 5.47s\tremaining: 23.3s\n",
      "190:\tlearn: 2914.8030149\ttotal: 5.5s\tremaining: 23.3s\n",
      "191:\tlearn: 2914.7324449\ttotal: 5.52s\tremaining: 23.2s\n",
      "192:\tlearn: 2914.4789807\ttotal: 5.55s\tremaining: 23.2s\n",
      "193:\tlearn: 2914.2546676\ttotal: 5.58s\tremaining: 23.2s\n",
      "194:\tlearn: 2913.9196676\ttotal: 5.61s\tremaining: 23.2s\n",
      "195:\tlearn: 2913.8144535\ttotal: 5.63s\tremaining: 23.1s\n",
      "196:\tlearn: 2913.5326089\ttotal: 5.66s\tremaining: 23.1s\n",
      "197:\tlearn: 2913.4106060\ttotal: 5.69s\tremaining: 23s\n",
      "198:\tlearn: 2913.2399550\ttotal: 5.71s\tremaining: 23s\n",
      "199:\tlearn: 2913.1374887\ttotal: 5.74s\tremaining: 23s\n",
      "200:\tlearn: 2912.9166693\ttotal: 5.77s\tremaining: 22.9s\n",
      "201:\tlearn: 2912.7870369\ttotal: 5.79s\tremaining: 22.9s\n",
      "202:\tlearn: 2912.5165526\ttotal: 5.82s\tremaining: 22.8s\n",
      "203:\tlearn: 2912.4626222\ttotal: 5.84s\tremaining: 22.8s\n",
      "204:\tlearn: 2912.3773202\ttotal: 5.87s\tremaining: 22.8s\n",
      "205:\tlearn: 2912.0159081\ttotal: 5.9s\tremaining: 22.7s\n",
      "206:\tlearn: 2911.6388710\ttotal: 5.93s\tremaining: 22.7s\n",
      "207:\tlearn: 2911.4923582\ttotal: 5.96s\tremaining: 22.7s\n",
      "208:\tlearn: 2911.3551684\ttotal: 5.98s\tremaining: 22.6s\n",
      "209:\tlearn: 2911.1068661\ttotal: 6.01s\tremaining: 22.6s\n",
      "210:\tlearn: 2910.7706749\ttotal: 6.04s\tremaining: 22.6s\n",
      "211:\tlearn: 2910.7276801\ttotal: 6.06s\tremaining: 22.5s\n",
      "212:\tlearn: 2910.3052859\ttotal: 6.09s\tremaining: 22.5s\n",
      "213:\tlearn: 2910.1287937\ttotal: 6.12s\tremaining: 22.5s\n",
      "214:\tlearn: 2910.0282284\ttotal: 6.14s\tremaining: 22.4s\n",
      "215:\tlearn: 2909.9259010\ttotal: 6.17s\tremaining: 22.4s\n",
      "216:\tlearn: 2909.7616943\ttotal: 6.2s\tremaining: 22.4s\n",
      "217:\tlearn: 2909.5938314\ttotal: 6.23s\tremaining: 22.3s\n",
      "218:\tlearn: 2909.5181332\ttotal: 6.25s\tremaining: 22.3s\n",
      "219:\tlearn: 2909.2854802\ttotal: 6.27s\tremaining: 22.2s\n",
      "220:\tlearn: 2909.1451447\ttotal: 6.3s\tremaining: 22.2s\n",
      "221:\tlearn: 2908.9511627\ttotal: 6.33s\tremaining: 22.2s\n",
      "222:\tlearn: 2908.6997999\ttotal: 6.36s\tremaining: 22.1s\n",
      "223:\tlearn: 2908.4989727\ttotal: 6.38s\tremaining: 22.1s\n",
      "224:\tlearn: 2908.2992087\ttotal: 6.41s\tremaining: 22.1s\n",
      "225:\tlearn: 2908.1391789\ttotal: 6.44s\tremaining: 22.1s\n",
      "226:\tlearn: 2907.8187676\ttotal: 6.47s\tremaining: 22s\n",
      "227:\tlearn: 2907.4740528\ttotal: 6.5s\tremaining: 22s\n",
      "228:\tlearn: 2907.4094171\ttotal: 6.52s\tremaining: 22s\n",
      "229:\tlearn: 2907.3116151\ttotal: 6.55s\tremaining: 21.9s\n",
      "230:\tlearn: 2907.1511672\ttotal: 6.58s\tremaining: 21.9s\n",
      "231:\tlearn: 2906.9759012\ttotal: 6.6s\tremaining: 21.9s\n",
      "232:\tlearn: 2906.8317120\ttotal: 6.63s\tremaining: 21.8s\n",
      "233:\tlearn: 2906.6937570\ttotal: 6.66s\tremaining: 21.8s\n",
      "234:\tlearn: 2906.3426750\ttotal: 6.69s\tremaining: 21.8s\n",
      "235:\tlearn: 2906.2151494\ttotal: 6.72s\tremaining: 21.7s\n",
      "236:\tlearn: 2906.1801289\ttotal: 6.74s\tremaining: 21.7s\n",
      "237:\tlearn: 2905.9248543\ttotal: 6.77s\tremaining: 21.7s\n",
      "238:\tlearn: 2905.6602003\ttotal: 6.79s\tremaining: 21.6s\n",
      "239:\tlearn: 2905.3757845\ttotal: 6.82s\tremaining: 21.6s\n",
      "240:\tlearn: 2905.1998998\ttotal: 6.85s\tremaining: 21.6s\n",
      "241:\tlearn: 2904.9133535\ttotal: 6.88s\tremaining: 21.5s\n",
      "242:\tlearn: 2904.6632381\ttotal: 6.9s\tremaining: 21.5s\n",
      "243:\tlearn: 2904.5549536\ttotal: 6.93s\tremaining: 21.5s\n",
      "244:\tlearn: 2904.2677891\ttotal: 6.96s\tremaining: 21.5s\n",
      "245:\tlearn: 2904.1751659\ttotal: 6.99s\tremaining: 21.4s\n",
      "246:\tlearn: 2904.0650871\ttotal: 7.02s\tremaining: 21.4s\n",
      "247:\tlearn: 2903.9597720\ttotal: 7.04s\tremaining: 21.3s\n",
      "248:\tlearn: 2903.8710363\ttotal: 7.07s\tremaining: 21.3s\n",
      "249:\tlearn: 2903.7377400\ttotal: 7.09s\tremaining: 21.3s\n",
      "250:\tlearn: 2903.3196203\ttotal: 7.13s\tremaining: 21.3s\n",
      "251:\tlearn: 2903.1913362\ttotal: 7.15s\tremaining: 21.2s\n",
      "252:\tlearn: 2903.1527763\ttotal: 7.17s\tremaining: 21.2s\n",
      "253:\tlearn: 2902.9913594\ttotal: 7.2s\tremaining: 21.2s\n",
      "254:\tlearn: 2902.7841523\ttotal: 7.23s\tremaining: 21.1s\n",
      "255:\tlearn: 2902.5460265\ttotal: 7.26s\tremaining: 21.1s\n",
      "256:\tlearn: 2902.3574540\ttotal: 7.28s\tremaining: 21.1s\n",
      "257:\tlearn: 2902.2336190\ttotal: 7.31s\tremaining: 21s\n",
      "258:\tlearn: 2902.1366774\ttotal: 7.34s\tremaining: 21s\n",
      "259:\tlearn: 2901.9982102\ttotal: 7.37s\tremaining: 21s\n",
      "260:\tlearn: 2901.8507760\ttotal: 7.39s\tremaining: 20.9s\n",
      "261:\tlearn: 2901.6732355\ttotal: 7.42s\tremaining: 20.9s\n",
      "262:\tlearn: 2901.5439173\ttotal: 7.45s\tremaining: 20.9s\n",
      "263:\tlearn: 2901.3839854\ttotal: 7.47s\tremaining: 20.8s\n",
      "264:\tlearn: 2901.2324182\ttotal: 7.5s\tremaining: 20.8s\n",
      "265:\tlearn: 2900.9631073\ttotal: 7.53s\tremaining: 20.8s\n",
      "266:\tlearn: 2900.8182117\ttotal: 7.56s\tremaining: 20.8s\n",
      "267:\tlearn: 2900.5351259\ttotal: 7.59s\tremaining: 20.7s\n",
      "268:\tlearn: 2900.3763701\ttotal: 7.62s\tremaining: 20.7s\n",
      "269:\tlearn: 2900.2572429\ttotal: 7.64s\tremaining: 20.7s\n",
      "270:\tlearn: 2900.0464937\ttotal: 7.67s\tremaining: 20.6s\n",
      "271:\tlearn: 2899.6570702\ttotal: 7.7s\tremaining: 20.6s\n",
      "272:\tlearn: 2899.5533077\ttotal: 7.73s\tremaining: 20.6s\n",
      "273:\tlearn: 2899.4037367\ttotal: 7.75s\tremaining: 20.5s\n",
      "274:\tlearn: 2899.2597776\ttotal: 7.78s\tremaining: 20.5s\n",
      "275:\tlearn: 2899.0558482\ttotal: 7.81s\tremaining: 20.5s\n",
      "276:\tlearn: 2898.9283554\ttotal: 7.83s\tremaining: 20.4s\n",
      "277:\tlearn: 2898.8301775\ttotal: 7.86s\tremaining: 20.4s\n",
      "278:\tlearn: 2898.5267790\ttotal: 7.89s\tremaining: 20.4s\n",
      "279:\tlearn: 2898.3794378\ttotal: 7.92s\tremaining: 20.4s\n",
      "280:\tlearn: 2898.3116277\ttotal: 7.95s\tremaining: 20.3s\n",
      "281:\tlearn: 2898.2066011\ttotal: 7.97s\tremaining: 20.3s\n",
      "282:\tlearn: 2898.1107210\ttotal: 8s\tremaining: 20.3s\n",
      "283:\tlearn: 2898.0286426\ttotal: 8.02s\tremaining: 20.2s\n",
      "284:\tlearn: 2897.9895590\ttotal: 8.05s\tremaining: 20.2s\n",
      "285:\tlearn: 2897.7976254\ttotal: 8.08s\tremaining: 20.2s\n",
      "286:\tlearn: 2897.5578339\ttotal: 8.11s\tremaining: 20.1s\n",
      "287:\tlearn: 2897.3450518\ttotal: 8.13s\tremaining: 20.1s\n",
      "288:\tlearn: 2897.1667146\ttotal: 8.17s\tremaining: 20.1s\n",
      "289:\tlearn: 2896.9965632\ttotal: 8.2s\tremaining: 20.1s\n",
      "290:\tlearn: 2896.8308799\ttotal: 8.22s\tremaining: 20s\n",
      "291:\tlearn: 2896.6348089\ttotal: 8.25s\tremaining: 20s\n",
      "292:\tlearn: 2896.5026425\ttotal: 8.28s\tremaining: 20s\n",
      "293:\tlearn: 2896.4048520\ttotal: 8.3s\tremaining: 19.9s\n",
      "294:\tlearn: 2896.1793592\ttotal: 8.33s\tremaining: 19.9s\n",
      "295:\tlearn: 2896.1145374\ttotal: 8.36s\tremaining: 19.9s\n",
      "296:\tlearn: 2895.9822591\ttotal: 8.4s\tremaining: 19.9s\n",
      "297:\tlearn: 2895.8367503\ttotal: 8.43s\tremaining: 19.9s\n",
      "298:\tlearn: 2895.7131017\ttotal: 8.46s\tremaining: 19.8s\n",
      "299:\tlearn: 2895.4375617\ttotal: 8.49s\tremaining: 19.8s\n",
      "300:\tlearn: 2895.4002878\ttotal: 8.51s\tremaining: 19.8s\n",
      "301:\tlearn: 2895.2001566\ttotal: 8.54s\tremaining: 19.7s\n",
      "302:\tlearn: 2895.0078263\ttotal: 8.56s\tremaining: 19.7s\n",
      "303:\tlearn: 2894.8920307\ttotal: 8.59s\tremaining: 19.7s\n",
      "304:\tlearn: 2894.7750538\ttotal: 8.62s\tremaining: 19.6s\n",
      "305:\tlearn: 2894.5136596\ttotal: 8.65s\tremaining: 19.6s\n",
      "306:\tlearn: 2894.2545715\ttotal: 8.68s\tremaining: 19.6s\n",
      "307:\tlearn: 2894.0743653\ttotal: 8.71s\tremaining: 19.6s\n",
      "308:\tlearn: 2893.9771561\ttotal: 8.73s\tremaining: 19.5s\n",
      "309:\tlearn: 2893.8967024\ttotal: 8.76s\tremaining: 19.5s\n",
      "310:\tlearn: 2893.8430769\ttotal: 8.79s\tremaining: 19.5s\n",
      "311:\tlearn: 2893.7676532\ttotal: 8.81s\tremaining: 19.4s\n",
      "312:\tlearn: 2893.6583610\ttotal: 8.84s\tremaining: 19.4s\n",
      "313:\tlearn: 2893.6388231\ttotal: 8.87s\tremaining: 19.4s\n",
      "314:\tlearn: 2893.5152421\ttotal: 8.89s\tremaining: 19.3s\n",
      "315:\tlearn: 2893.3609548\ttotal: 8.92s\tremaining: 19.3s\n",
      "316:\tlearn: 2893.2525047\ttotal: 8.95s\tremaining: 19.3s\n",
      "317:\tlearn: 2893.1281780\ttotal: 8.97s\tremaining: 19.2s\n",
      "318:\tlearn: 2893.0546791\ttotal: 9s\tremaining: 19.2s\n",
      "319:\tlearn: 2892.9468927\ttotal: 9.03s\tremaining: 19.2s\n",
      "320:\tlearn: 2892.7772159\ttotal: 9.05s\tremaining: 19.2s\n",
      "321:\tlearn: 2892.7046545\ttotal: 9.08s\tremaining: 19.1s\n",
      "322:\tlearn: 2892.6496080\ttotal: 9.11s\tremaining: 19.1s\n",
      "323:\tlearn: 2892.4892780\ttotal: 9.13s\tremaining: 19.1s\n",
      "324:\tlearn: 2892.2859025\ttotal: 9.16s\tremaining: 19s\n",
      "325:\tlearn: 2892.1150318\ttotal: 9.19s\tremaining: 19s\n",
      "326:\tlearn: 2892.0322772\ttotal: 9.22s\tremaining: 19s\n",
      "327:\tlearn: 2891.9177059\ttotal: 9.24s\tremaining: 18.9s\n",
      "328:\tlearn: 2891.7871577\ttotal: 9.27s\tremaining: 18.9s\n",
      "329:\tlearn: 2891.6675110\ttotal: 9.3s\tremaining: 18.9s\n",
      "330:\tlearn: 2891.5621862\ttotal: 9.33s\tremaining: 18.9s\n",
      "331:\tlearn: 2891.4207893\ttotal: 9.36s\tremaining: 18.8s\n",
      "332:\tlearn: 2891.3475070\ttotal: 9.38s\tremaining: 18.8s\n",
      "333:\tlearn: 2891.2639032\ttotal: 9.41s\tremaining: 18.8s\n",
      "334:\tlearn: 2891.1902351\ttotal: 9.43s\tremaining: 18.7s\n",
      "335:\tlearn: 2891.0508145\ttotal: 9.46s\tremaining: 18.7s\n",
      "336:\tlearn: 2890.8953997\ttotal: 9.49s\tremaining: 18.7s\n",
      "337:\tlearn: 2890.7883604\ttotal: 9.52s\tremaining: 18.6s\n",
      "338:\tlearn: 2890.6886358\ttotal: 9.54s\tremaining: 18.6s\n",
      "339:\tlearn: 2890.5703817\ttotal: 9.57s\tremaining: 18.6s\n",
      "340:\tlearn: 2890.4958946\ttotal: 9.6s\tremaining: 18.5s\n",
      "341:\tlearn: 2890.4141425\ttotal: 9.62s\tremaining: 18.5s\n",
      "342:\tlearn: 2890.3326735\ttotal: 9.65s\tremaining: 18.5s\n",
      "343:\tlearn: 2890.2456667\ttotal: 9.68s\tremaining: 18.5s\n",
      "344:\tlearn: 2890.1156660\ttotal: 9.71s\tremaining: 18.4s\n",
      "345:\tlearn: 2889.9764433\ttotal: 9.74s\tremaining: 18.4s\n",
      "346:\tlearn: 2889.8659651\ttotal: 9.77s\tremaining: 18.4s\n",
      "347:\tlearn: 2889.6715792\ttotal: 9.8s\tremaining: 18.4s\n",
      "348:\tlearn: 2889.3524034\ttotal: 9.83s\tremaining: 18.3s\n",
      "349:\tlearn: 2889.2777336\ttotal: 9.86s\tremaining: 18.3s\n",
      "350:\tlearn: 2889.1853925\ttotal: 9.88s\tremaining: 18.3s\n",
      "351:\tlearn: 2889.0813735\ttotal: 9.91s\tremaining: 18.2s\n",
      "352:\tlearn: 2888.9144391\ttotal: 9.94s\tremaining: 18.2s\n",
      "353:\tlearn: 2888.8381626\ttotal: 9.96s\tremaining: 18.2s\n",
      "354:\tlearn: 2888.7798160\ttotal: 9.99s\tremaining: 18.1s\n",
      "355:\tlearn: 2888.7113622\ttotal: 10s\tremaining: 18.1s\n",
      "356:\tlearn: 2888.5459977\ttotal: 10s\tremaining: 18.1s\n",
      "357:\tlearn: 2888.4504222\ttotal: 10.1s\tremaining: 18.1s\n",
      "358:\tlearn: 2888.3625865\ttotal: 10.1s\tremaining: 18s\n",
      "359:\tlearn: 2888.1708364\ttotal: 10.1s\tremaining: 18s\n",
      "360:\tlearn: 2887.9633338\ttotal: 10.1s\tremaining: 18s\n",
      "361:\tlearn: 2887.9291811\ttotal: 10.2s\tremaining: 17.9s\n",
      "362:\tlearn: 2887.8362119\ttotal: 10.2s\tremaining: 17.9s\n",
      "363:\tlearn: 2887.6664091\ttotal: 10.2s\tremaining: 17.9s\n",
      "364:\tlearn: 2887.5647043\ttotal: 10.3s\tremaining: 17.8s\n",
      "365:\tlearn: 2887.4594158\ttotal: 10.3s\tremaining: 17.8s\n",
      "366:\tlearn: 2887.3032467\ttotal: 10.3s\tremaining: 17.8s\n",
      "367:\tlearn: 2887.2025539\ttotal: 10.3s\tremaining: 17.8s\n",
      "368:\tlearn: 2887.0718086\ttotal: 10.4s\tremaining: 17.7s\n",
      "369:\tlearn: 2887.0284038\ttotal: 10.4s\tremaining: 17.7s\n",
      "370:\tlearn: 2886.8544567\ttotal: 10.4s\tremaining: 17.7s\n",
      "371:\tlearn: 2886.7608465\ttotal: 10.4s\tremaining: 17.6s\n",
      "372:\tlearn: 2886.7149101\ttotal: 10.5s\tremaining: 17.6s\n",
      "373:\tlearn: 2886.6269900\ttotal: 10.5s\tremaining: 17.6s\n",
      "374:\tlearn: 2886.5922761\ttotal: 10.5s\tremaining: 17.5s\n",
      "375:\tlearn: 2886.4247346\ttotal: 10.6s\tremaining: 17.5s\n",
      "376:\tlearn: 2886.3619628\ttotal: 10.6s\tremaining: 17.5s\n",
      "377:\tlearn: 2886.2730331\ttotal: 10.6s\tremaining: 17.5s\n",
      "378:\tlearn: 2886.1831954\ttotal: 10.6s\tremaining: 17.4s\n",
      "379:\tlearn: 2885.8494075\ttotal: 10.7s\tremaining: 17.4s\n",
      "380:\tlearn: 2885.7738136\ttotal: 10.7s\tremaining: 17.4s\n",
      "381:\tlearn: 2885.6697350\ttotal: 10.7s\tremaining: 17.3s\n",
      "382:\tlearn: 2885.6199072\ttotal: 10.7s\tremaining: 17.3s\n",
      "383:\tlearn: 2885.5486982\ttotal: 10.8s\tremaining: 17.3s\n",
      "384:\tlearn: 2885.4823774\ttotal: 10.8s\tremaining: 17.2s\n",
      "385:\tlearn: 2885.3026691\ttotal: 10.8s\tremaining: 17.2s\n",
      "386:\tlearn: 2885.2261299\ttotal: 10.8s\tremaining: 17.2s\n",
      "387:\tlearn: 2885.1049080\ttotal: 10.9s\tremaining: 17.2s\n",
      "388:\tlearn: 2884.9225905\ttotal: 10.9s\tremaining: 17.1s\n",
      "389:\tlearn: 2884.8156930\ttotal: 10.9s\tremaining: 17.1s\n",
      "390:\tlearn: 2884.7440042\ttotal: 11s\tremaining: 17.1s\n",
      "391:\tlearn: 2884.6919276\ttotal: 11s\tremaining: 17s\n",
      "392:\tlearn: 2884.6000728\ttotal: 11s\tremaining: 17s\n",
      "393:\tlearn: 2884.4687091\ttotal: 11s\tremaining: 17s\n",
      "394:\tlearn: 2884.4008443\ttotal: 11.1s\tremaining: 17s\n",
      "395:\tlearn: 2884.3124538\ttotal: 11.1s\tremaining: 16.9s\n",
      "396:\tlearn: 2884.1613583\ttotal: 11.1s\tremaining: 16.9s\n",
      "397:\tlearn: 2884.1142476\ttotal: 11.2s\tremaining: 16.9s\n",
      "398:\tlearn: 2884.0499038\ttotal: 11.2s\tremaining: 16.8s\n",
      "399:\tlearn: 2883.9329200\ttotal: 11.2s\tremaining: 16.8s\n",
      "400:\tlearn: 2883.8009325\ttotal: 11.2s\tremaining: 16.8s\n",
      "401:\tlearn: 2883.7023640\ttotal: 11.3s\tremaining: 16.8s\n",
      "402:\tlearn: 2883.5990733\ttotal: 11.3s\tremaining: 16.7s\n",
      "403:\tlearn: 2883.5476433\ttotal: 11.3s\tremaining: 16.7s\n",
      "404:\tlearn: 2883.4416183\ttotal: 11.3s\tremaining: 16.7s\n",
      "405:\tlearn: 2883.3135165\ttotal: 11.4s\tremaining: 16.6s\n",
      "406:\tlearn: 2883.1149902\ttotal: 11.4s\tremaining: 16.6s\n",
      "407:\tlearn: 2883.0142030\ttotal: 11.4s\tremaining: 16.6s\n",
      "408:\tlearn: 2882.9017949\ttotal: 11.5s\tremaining: 16.6s\n",
      "409:\tlearn: 2882.8287587\ttotal: 11.5s\tremaining: 16.5s\n",
      "410:\tlearn: 2882.5890465\ttotal: 11.5s\tremaining: 16.5s\n",
      "411:\tlearn: 2882.5417324\ttotal: 11.5s\tremaining: 16.5s\n",
      "412:\tlearn: 2882.3989809\ttotal: 11.6s\tremaining: 16.4s\n",
      "413:\tlearn: 2882.3103783\ttotal: 11.6s\tremaining: 16.4s\n",
      "414:\tlearn: 2882.1642914\ttotal: 11.6s\tremaining: 16.4s\n",
      "415:\tlearn: 2881.9862144\ttotal: 11.7s\tremaining: 16.4s\n",
      "416:\tlearn: 2881.9082693\ttotal: 11.7s\tremaining: 16.3s\n",
      "417:\tlearn: 2881.7638432\ttotal: 11.7s\tremaining: 16.3s\n",
      "418:\tlearn: 2881.6877470\ttotal: 11.7s\tremaining: 16.3s\n",
      "419:\tlearn: 2881.4805519\ttotal: 11.8s\tremaining: 16.2s\n",
      "420:\tlearn: 2881.4084058\ttotal: 11.8s\tremaining: 16.2s\n",
      "421:\tlearn: 2881.2797540\ttotal: 11.8s\tremaining: 16.2s\n",
      "422:\tlearn: 2881.2208628\ttotal: 11.9s\tremaining: 16.2s\n",
      "423:\tlearn: 2881.1592700\ttotal: 11.9s\tremaining: 16.2s\n",
      "424:\tlearn: 2881.1205324\ttotal: 11.9s\tremaining: 16.1s\n",
      "425:\tlearn: 2881.0031963\ttotal: 12s\tremaining: 16.1s\n",
      "426:\tlearn: 2880.9715543\ttotal: 12s\tremaining: 16.1s\n",
      "427:\tlearn: 2880.8865622\ttotal: 12s\tremaining: 16.1s\n",
      "428:\tlearn: 2880.8054342\ttotal: 12s\tremaining: 16s\n",
      "429:\tlearn: 2880.7262584\ttotal: 12.1s\tremaining: 16s\n",
      "430:\tlearn: 2880.5776392\ttotal: 12.1s\tremaining: 16s\n",
      "431:\tlearn: 2880.4816142\ttotal: 12.1s\tremaining: 16s\n",
      "432:\tlearn: 2880.4070593\ttotal: 12.2s\tremaining: 15.9s\n",
      "433:\tlearn: 2880.3301124\ttotal: 12.2s\tremaining: 15.9s\n",
      "434:\tlearn: 2880.2311462\ttotal: 12.2s\tremaining: 15.9s\n",
      "435:\tlearn: 2880.2187404\ttotal: 12.3s\tremaining: 15.9s\n",
      "436:\tlearn: 2880.1607277\ttotal: 12.3s\tremaining: 15.8s\n",
      "437:\tlearn: 2880.0551609\ttotal: 12.3s\tremaining: 15.8s\n",
      "438:\tlearn: 2879.9529246\ttotal: 12.4s\tremaining: 15.8s\n",
      "439:\tlearn: 2879.7199493\ttotal: 12.4s\tremaining: 15.8s\n",
      "440:\tlearn: 2879.6377158\ttotal: 12.4s\tremaining: 15.8s\n",
      "441:\tlearn: 2879.5879216\ttotal: 12.5s\tremaining: 15.7s\n",
      "442:\tlearn: 2879.5108162\ttotal: 12.5s\tremaining: 15.7s\n",
      "443:\tlearn: 2879.4797113\ttotal: 12.5s\tremaining: 15.7s\n",
      "444:\tlearn: 2879.3890194\ttotal: 12.5s\tremaining: 15.6s\n",
      "445:\tlearn: 2879.2775824\ttotal: 12.6s\tremaining: 15.6s\n",
      "446:\tlearn: 2879.1567852\ttotal: 12.6s\tremaining: 15.6s\n",
      "447:\tlearn: 2879.0663513\ttotal: 12.6s\tremaining: 15.6s\n",
      "448:\tlearn: 2878.9434847\ttotal: 12.7s\tremaining: 15.6s\n",
      "449:\tlearn: 2878.8761509\ttotal: 12.7s\tremaining: 15.5s\n",
      "450:\tlearn: 2878.7721290\ttotal: 12.7s\tremaining: 15.5s\n",
      "451:\tlearn: 2878.6960966\ttotal: 12.8s\tremaining: 15.5s\n",
      "452:\tlearn: 2878.6276912\ttotal: 12.8s\tremaining: 15.4s\n",
      "453:\tlearn: 2878.5645983\ttotal: 12.8s\tremaining: 15.4s\n",
      "454:\tlearn: 2878.4746853\ttotal: 12.9s\tremaining: 15.4s\n",
      "455:\tlearn: 2878.3655116\ttotal: 12.9s\tremaining: 15.4s\n",
      "456:\tlearn: 2878.2001398\ttotal: 12.9s\tremaining: 15.4s\n",
      "457:\tlearn: 2878.1187084\ttotal: 13s\tremaining: 15.3s\n",
      "458:\tlearn: 2877.9645990\ttotal: 13s\tremaining: 15.3s\n",
      "459:\tlearn: 2877.8217389\ttotal: 13s\tremaining: 15.3s\n",
      "460:\tlearn: 2877.5593952\ttotal: 13.1s\tremaining: 15.3s\n",
      "461:\tlearn: 2877.3713889\ttotal: 13.1s\tremaining: 15.2s\n",
      "462:\tlearn: 2877.2128497\ttotal: 13.1s\tremaining: 15.2s\n",
      "463:\tlearn: 2877.1499220\ttotal: 13.2s\tremaining: 15.2s\n",
      "464:\tlearn: 2877.0840186\ttotal: 13.2s\tremaining: 15.2s\n",
      "465:\tlearn: 2876.9672889\ttotal: 13.2s\tremaining: 15.1s\n",
      "466:\tlearn: 2876.8836787\ttotal: 13.3s\tremaining: 15.1s\n",
      "467:\tlearn: 2876.8633697\ttotal: 13.3s\tremaining: 15.1s\n",
      "468:\tlearn: 2876.7918141\ttotal: 13.3s\tremaining: 15.1s\n",
      "469:\tlearn: 2876.7131904\ttotal: 13.3s\tremaining: 15s\n",
      "470:\tlearn: 2876.6376323\ttotal: 13.4s\tremaining: 15s\n",
      "471:\tlearn: 2876.5591158\ttotal: 13.4s\tremaining: 15s\n",
      "472:\tlearn: 2876.4945127\ttotal: 13.4s\tremaining: 15s\n",
      "473:\tlearn: 2876.4492611\ttotal: 13.5s\tremaining: 14.9s\n",
      "474:\tlearn: 2876.4049221\ttotal: 13.5s\tremaining: 14.9s\n",
      "475:\tlearn: 2876.3735639\ttotal: 13.5s\tremaining: 14.9s\n",
      "476:\tlearn: 2876.2704539\ttotal: 13.5s\tremaining: 14.8s\n",
      "477:\tlearn: 2876.1448350\ttotal: 13.6s\tremaining: 14.8s\n",
      "478:\tlearn: 2876.0271770\ttotal: 13.6s\tremaining: 14.8s\n",
      "479:\tlearn: 2875.8930934\ttotal: 13.6s\tremaining: 14.8s\n",
      "480:\tlearn: 2875.8291678\ttotal: 13.7s\tremaining: 14.7s\n",
      "481:\tlearn: 2875.7737419\ttotal: 13.7s\tremaining: 14.7s\n",
      "482:\tlearn: 2875.7192778\ttotal: 13.7s\tremaining: 14.7s\n",
      "483:\tlearn: 2875.6095822\ttotal: 13.7s\tremaining: 14.6s\n",
      "484:\tlearn: 2875.5436018\ttotal: 13.8s\tremaining: 14.6s\n",
      "485:\tlearn: 2875.4807066\ttotal: 13.8s\tremaining: 14.6s\n",
      "486:\tlearn: 2875.2242736\ttotal: 13.8s\tremaining: 14.5s\n",
      "487:\tlearn: 2875.1297875\ttotal: 13.8s\tremaining: 14.5s\n",
      "488:\tlearn: 2875.0767818\ttotal: 13.9s\tremaining: 14.5s\n",
      "489:\tlearn: 2875.0163496\ttotal: 13.9s\tremaining: 14.5s\n",
      "490:\tlearn: 2874.9087638\ttotal: 13.9s\tremaining: 14.4s\n",
      "491:\tlearn: 2874.8168743\ttotal: 13.9s\tremaining: 14.4s\n",
      "492:\tlearn: 2874.6802662\ttotal: 14s\tremaining: 14.4s\n",
      "493:\tlearn: 2874.6339537\ttotal: 14s\tremaining: 14.3s\n",
      "494:\tlearn: 2874.5249611\ttotal: 14s\tremaining: 14.3s\n",
      "495:\tlearn: 2874.4082991\ttotal: 14.1s\tremaining: 14.3s\n",
      "496:\tlearn: 2874.3071436\ttotal: 14.1s\tremaining: 14.3s\n",
      "497:\tlearn: 2874.2429357\ttotal: 14.1s\tremaining: 14.2s\n",
      "498:\tlearn: 2874.1331850\ttotal: 14.1s\tremaining: 14.2s\n",
      "499:\tlearn: 2874.0571388\ttotal: 14.2s\tremaining: 14.2s\n",
      "500:\tlearn: 2873.9977433\ttotal: 14.2s\tremaining: 14.1s\n",
      "501:\tlearn: 2873.8264553\ttotal: 14.2s\tremaining: 14.1s\n",
      "502:\tlearn: 2873.7464123\ttotal: 14.2s\tremaining: 14.1s\n",
      "503:\tlearn: 2873.6736097\ttotal: 14.3s\tremaining: 14.1s\n",
      "504:\tlearn: 2873.6162714\ttotal: 14.3s\tremaining: 14s\n",
      "505:\tlearn: 2873.5327435\ttotal: 14.3s\tremaining: 14s\n",
      "506:\tlearn: 2873.4517745\ttotal: 14.4s\tremaining: 14s\n",
      "507:\tlearn: 2873.3963254\ttotal: 14.4s\tremaining: 13.9s\n",
      "508:\tlearn: 2873.3066321\ttotal: 14.4s\tremaining: 13.9s\n",
      "509:\tlearn: 2873.1820637\ttotal: 14.4s\tremaining: 13.9s\n",
      "510:\tlearn: 2872.9844715\ttotal: 14.5s\tremaining: 13.9s\n",
      "511:\tlearn: 2872.8728155\ttotal: 14.5s\tremaining: 13.8s\n",
      "512:\tlearn: 2872.7712644\ttotal: 14.5s\tremaining: 13.8s\n",
      "513:\tlearn: 2872.6805451\ttotal: 14.6s\tremaining: 13.8s\n",
      "514:\tlearn: 2872.5816331\ttotal: 14.6s\tremaining: 13.7s\n",
      "515:\tlearn: 2872.4061118\ttotal: 14.6s\tremaining: 13.7s\n",
      "516:\tlearn: 2872.3182713\ttotal: 14.7s\tremaining: 13.7s\n",
      "517:\tlearn: 2872.1432900\ttotal: 14.7s\tremaining: 13.7s\n",
      "518:\tlearn: 2872.0908992\ttotal: 14.7s\tremaining: 13.6s\n",
      "519:\tlearn: 2871.8773871\ttotal: 14.7s\tremaining: 13.6s\n",
      "520:\tlearn: 2871.8218981\ttotal: 14.8s\tremaining: 13.6s\n",
      "521:\tlearn: 2871.7209549\ttotal: 14.8s\tremaining: 13.5s\n",
      "522:\tlearn: 2871.5991860\ttotal: 14.8s\tremaining: 13.5s\n",
      "523:\tlearn: 2871.5621552\ttotal: 14.8s\tremaining: 13.5s\n",
      "524:\tlearn: 2871.5202528\ttotal: 14.9s\tremaining: 13.5s\n",
      "525:\tlearn: 2871.3883515\ttotal: 14.9s\tremaining: 13.4s\n",
      "526:\tlearn: 2871.3386454\ttotal: 14.9s\tremaining: 13.4s\n",
      "527:\tlearn: 2871.2717907\ttotal: 15s\tremaining: 13.4s\n",
      "528:\tlearn: 2871.1579842\ttotal: 15s\tremaining: 13.3s\n",
      "529:\tlearn: 2871.0996269\ttotal: 15s\tremaining: 13.3s\n",
      "530:\tlearn: 2871.0482522\ttotal: 15s\tremaining: 13.3s\n",
      "531:\tlearn: 2870.9659964\ttotal: 15.1s\tremaining: 13.3s\n",
      "532:\tlearn: 2870.9229800\ttotal: 15.1s\tremaining: 13.2s\n",
      "533:\tlearn: 2870.8401210\ttotal: 15.1s\tremaining: 13.2s\n",
      "534:\tlearn: 2870.6970610\ttotal: 15.1s\tremaining: 13.2s\n",
      "535:\tlearn: 2870.6246843\ttotal: 15.2s\tremaining: 13.1s\n",
      "536:\tlearn: 2870.5112002\ttotal: 15.2s\tremaining: 13.1s\n",
      "537:\tlearn: 2870.4799452\ttotal: 15.2s\tremaining: 13.1s\n",
      "538:\tlearn: 2870.4037159\ttotal: 15.3s\tremaining: 13s\n",
      "539:\tlearn: 2870.3085607\ttotal: 15.3s\tremaining: 13s\n",
      "540:\tlearn: 2870.2609253\ttotal: 15.3s\tremaining: 13s\n",
      "541:\tlearn: 2870.2006256\ttotal: 15.3s\tremaining: 13s\n",
      "542:\tlearn: 2869.9950455\ttotal: 15.4s\tremaining: 12.9s\n",
      "543:\tlearn: 2869.9174218\ttotal: 15.4s\tremaining: 12.9s\n",
      "544:\tlearn: 2869.8437624\ttotal: 15.4s\tremaining: 12.9s\n",
      "545:\tlearn: 2869.6848414\ttotal: 15.4s\tremaining: 12.8s\n",
      "546:\tlearn: 2869.5902048\ttotal: 15.5s\tremaining: 12.8s\n",
      "547:\tlearn: 2869.5022977\ttotal: 15.5s\tremaining: 12.8s\n",
      "548:\tlearn: 2869.3255563\ttotal: 15.5s\tremaining: 12.8s\n",
      "549:\tlearn: 2869.2755482\ttotal: 15.6s\tremaining: 12.7s\n",
      "550:\tlearn: 2869.1920033\ttotal: 15.6s\tremaining: 12.7s\n",
      "551:\tlearn: 2869.1006692\ttotal: 15.6s\tremaining: 12.7s\n",
      "552:\tlearn: 2869.0345321\ttotal: 15.6s\tremaining: 12.6s\n",
      "553:\tlearn: 2868.9271617\ttotal: 15.7s\tremaining: 12.6s\n",
      "554:\tlearn: 2868.8822217\ttotal: 15.7s\tremaining: 12.6s\n",
      "555:\tlearn: 2868.8617738\ttotal: 15.7s\tremaining: 12.6s\n",
      "556:\tlearn: 2868.7968312\ttotal: 15.7s\tremaining: 12.5s\n",
      "557:\tlearn: 2868.6068260\ttotal: 15.8s\tremaining: 12.5s\n",
      "558:\tlearn: 2868.4461730\ttotal: 15.8s\tremaining: 12.5s\n",
      "559:\tlearn: 2868.2623654\ttotal: 15.8s\tremaining: 12.4s\n",
      "560:\tlearn: 2868.1692544\ttotal: 15.9s\tremaining: 12.4s\n",
      "561:\tlearn: 2868.0997247\ttotal: 15.9s\tremaining: 12.4s\n",
      "562:\tlearn: 2868.0361352\ttotal: 15.9s\tremaining: 12.4s\n",
      "563:\tlearn: 2867.9823910\ttotal: 15.9s\tremaining: 12.3s\n",
      "564:\tlearn: 2867.9436245\ttotal: 16s\tremaining: 12.3s\n",
      "565:\tlearn: 2867.7972326\ttotal: 16s\tremaining: 12.3s\n",
      "566:\tlearn: 2867.7067293\ttotal: 16s\tremaining: 12.2s\n",
      "567:\tlearn: 2867.6321847\ttotal: 16.1s\tremaining: 12.2s\n",
      "568:\tlearn: 2867.6151297\ttotal: 16.1s\tremaining: 12.2s\n",
      "569:\tlearn: 2867.4314211\ttotal: 16.1s\tremaining: 12.2s\n",
      "570:\tlearn: 2867.3080901\ttotal: 16.1s\tremaining: 12.1s\n",
      "571:\tlearn: 2867.2466458\ttotal: 16.2s\tremaining: 12.1s\n",
      "572:\tlearn: 2867.2295041\ttotal: 16.2s\tremaining: 12.1s\n",
      "573:\tlearn: 2867.1757011\ttotal: 16.2s\tremaining: 12s\n",
      "574:\tlearn: 2867.0611351\ttotal: 16.2s\tremaining: 12s\n",
      "575:\tlearn: 2867.0154402\ttotal: 16.3s\tremaining: 12s\n",
      "576:\tlearn: 2866.9618024\ttotal: 16.3s\tremaining: 11.9s\n",
      "577:\tlearn: 2866.8200693\ttotal: 16.3s\tremaining: 11.9s\n",
      "578:\tlearn: 2866.7545836\ttotal: 16.4s\tremaining: 11.9s\n",
      "579:\tlearn: 2866.7040747\ttotal: 16.4s\tremaining: 11.9s\n",
      "580:\tlearn: 2866.6520745\ttotal: 16.4s\tremaining: 11.8s\n",
      "581:\tlearn: 2866.5708528\ttotal: 16.4s\tremaining: 11.8s\n",
      "582:\tlearn: 2866.4777596\ttotal: 16.5s\tremaining: 11.8s\n",
      "583:\tlearn: 2866.4216875\ttotal: 16.5s\tremaining: 11.7s\n",
      "584:\tlearn: 2866.3826381\ttotal: 16.5s\tremaining: 11.7s\n",
      "585:\tlearn: 2866.2397139\ttotal: 16.6s\tremaining: 11.7s\n",
      "586:\tlearn: 2866.1832732\ttotal: 16.6s\tremaining: 11.7s\n",
      "587:\tlearn: 2866.1510497\ttotal: 16.6s\tremaining: 11.6s\n",
      "588:\tlearn: 2866.1018443\ttotal: 16.6s\tremaining: 11.6s\n",
      "589:\tlearn: 2866.0579416\ttotal: 16.7s\tremaining: 11.6s\n",
      "590:\tlearn: 2865.9907747\ttotal: 16.7s\tremaining: 11.5s\n",
      "591:\tlearn: 2865.9406451\ttotal: 16.7s\tremaining: 11.5s\n",
      "592:\tlearn: 2865.7679397\ttotal: 16.7s\tremaining: 11.5s\n",
      "593:\tlearn: 2865.7171017\ttotal: 16.8s\tremaining: 11.5s\n",
      "594:\tlearn: 2865.6672230\ttotal: 16.8s\tremaining: 11.4s\n",
      "595:\tlearn: 2865.6072226\ttotal: 16.8s\tremaining: 11.4s\n",
      "596:\tlearn: 2865.4862570\ttotal: 16.9s\tremaining: 11.4s\n",
      "597:\tlearn: 2865.4429827\ttotal: 16.9s\tremaining: 11.3s\n",
      "598:\tlearn: 2865.3553064\ttotal: 16.9s\tremaining: 11.3s\n",
      "599:\tlearn: 2865.2102527\ttotal: 16.9s\tremaining: 11.3s\n",
      "600:\tlearn: 2865.1622059\ttotal: 17s\tremaining: 11.3s\n",
      "601:\tlearn: 2865.0988798\ttotal: 17s\tremaining: 11.2s\n",
      "602:\tlearn: 2865.0675593\ttotal: 17s\tremaining: 11.2s\n",
      "603:\tlearn: 2865.0226454\ttotal: 17s\tremaining: 11.2s\n",
      "604:\tlearn: 2864.7913057\ttotal: 17.1s\tremaining: 11.1s\n",
      "605:\tlearn: 2864.7051737\ttotal: 17.1s\tremaining: 11.1s\n",
      "606:\tlearn: 2864.6888628\ttotal: 17.1s\tremaining: 11.1s\n",
      "607:\tlearn: 2864.5225687\ttotal: 17.2s\tremaining: 11.1s\n",
      "608:\tlearn: 2864.4835526\ttotal: 17.2s\tremaining: 11s\n",
      "609:\tlearn: 2864.4514848\ttotal: 17.2s\tremaining: 11s\n",
      "610:\tlearn: 2864.3953150\ttotal: 17.2s\tremaining: 11s\n",
      "611:\tlearn: 2864.3028201\ttotal: 17.3s\tremaining: 10.9s\n",
      "612:\tlearn: 2864.2656313\ttotal: 17.3s\tremaining: 10.9s\n",
      "613:\tlearn: 2864.1692884\ttotal: 17.3s\tremaining: 10.9s\n",
      "614:\tlearn: 2864.0833677\ttotal: 17.3s\tremaining: 10.9s\n",
      "615:\tlearn: 2864.0342188\ttotal: 17.4s\tremaining: 10.8s\n",
      "616:\tlearn: 2863.9539183\ttotal: 17.4s\tremaining: 10.8s\n",
      "617:\tlearn: 2863.8985339\ttotal: 17.4s\tremaining: 10.8s\n",
      "618:\tlearn: 2863.8473373\ttotal: 17.5s\tremaining: 10.7s\n",
      "619:\tlearn: 2863.7139274\ttotal: 17.5s\tremaining: 10.7s\n",
      "620:\tlearn: 2863.6523139\ttotal: 17.5s\tremaining: 10.7s\n",
      "621:\tlearn: 2863.6034595\ttotal: 17.5s\tremaining: 10.7s\n",
      "622:\tlearn: 2863.5462813\ttotal: 17.6s\tremaining: 10.6s\n",
      "623:\tlearn: 2863.4848263\ttotal: 17.6s\tremaining: 10.6s\n",
      "624:\tlearn: 2863.4317889\ttotal: 17.6s\tremaining: 10.6s\n",
      "625:\tlearn: 2863.3292765\ttotal: 17.6s\tremaining: 10.5s\n",
      "626:\tlearn: 2863.2501772\ttotal: 17.7s\tremaining: 10.5s\n",
      "627:\tlearn: 2863.2118073\ttotal: 17.7s\tremaining: 10.5s\n",
      "628:\tlearn: 2863.1516161\ttotal: 17.7s\tremaining: 10.5s\n",
      "629:\tlearn: 2863.0381201\ttotal: 17.8s\tremaining: 10.4s\n",
      "630:\tlearn: 2862.9558305\ttotal: 17.8s\tremaining: 10.4s\n",
      "631:\tlearn: 2862.9088609\ttotal: 17.8s\tremaining: 10.4s\n",
      "632:\tlearn: 2862.8595816\ttotal: 17.8s\tremaining: 10.3s\n",
      "633:\tlearn: 2862.8201788\ttotal: 17.9s\tremaining: 10.3s\n",
      "634:\tlearn: 2862.7663506\ttotal: 17.9s\tremaining: 10.3s\n",
      "635:\tlearn: 2862.6776797\ttotal: 17.9s\tremaining: 10.3s\n",
      "636:\tlearn: 2862.5997495\ttotal: 18s\tremaining: 10.2s\n",
      "637:\tlearn: 2862.5339153\ttotal: 18s\tremaining: 10.2s\n",
      "638:\tlearn: 2862.4839787\ttotal: 18s\tremaining: 10.2s\n",
      "639:\tlearn: 2862.4113082\ttotal: 18s\tremaining: 10.1s\n",
      "640:\tlearn: 2862.3574572\ttotal: 18.1s\tremaining: 10.1s\n",
      "641:\tlearn: 2862.3195015\ttotal: 18.1s\tremaining: 10.1s\n",
      "642:\tlearn: 2862.2878738\ttotal: 18.1s\tremaining: 10.1s\n",
      "643:\tlearn: 2862.1961255\ttotal: 18.1s\tremaining: 10s\n",
      "644:\tlearn: 2862.0914031\ttotal: 18.2s\tremaining: 10s\n",
      "645:\tlearn: 2862.0401100\ttotal: 18.2s\tremaining: 9.97s\n",
      "646:\tlearn: 2861.9117805\ttotal: 18.2s\tremaining: 9.94s\n",
      "647:\tlearn: 2861.8588125\ttotal: 18.2s\tremaining: 9.91s\n",
      "648:\tlearn: 2861.7996395\ttotal: 18.3s\tremaining: 9.88s\n",
      "649:\tlearn: 2861.7152016\ttotal: 18.3s\tremaining: 9.85s\n",
      "650:\tlearn: 2861.6556828\ttotal: 18.3s\tremaining: 9.83s\n",
      "651:\tlearn: 2861.6213512\ttotal: 18.4s\tremaining: 9.8s\n",
      "652:\tlearn: 2861.5564839\ttotal: 18.4s\tremaining: 9.77s\n",
      "653:\tlearn: 2861.5136788\ttotal: 18.4s\tremaining: 9.74s\n",
      "654:\tlearn: 2861.4513217\ttotal: 18.4s\tremaining: 9.71s\n",
      "655:\tlearn: 2861.3901600\ttotal: 18.5s\tremaining: 9.68s\n",
      "656:\tlearn: 2861.3400432\ttotal: 18.5s\tremaining: 9.65s\n",
      "657:\tlearn: 2861.2894456\ttotal: 18.5s\tremaining: 9.63s\n",
      "658:\tlearn: 2861.2305680\ttotal: 18.5s\tremaining: 9.6s\n",
      "659:\tlearn: 2861.1618189\ttotal: 18.6s\tremaining: 9.57s\n",
      "660:\tlearn: 2861.0847641\ttotal: 18.6s\tremaining: 9.54s\n",
      "661:\tlearn: 2861.0008732\ttotal: 18.6s\tremaining: 9.51s\n",
      "662:\tlearn: 2860.9590059\ttotal: 18.7s\tremaining: 9.48s\n",
      "663:\tlearn: 2860.7837418\ttotal: 18.7s\tremaining: 9.46s\n",
      "664:\tlearn: 2860.7055446\ttotal: 18.7s\tremaining: 9.43s\n",
      "665:\tlearn: 2860.6402335\ttotal: 18.7s\tremaining: 9.4s\n",
      "666:\tlearn: 2860.6057203\ttotal: 18.8s\tremaining: 9.37s\n",
      "667:\tlearn: 2860.5270055\ttotal: 18.8s\tremaining: 9.35s\n",
      "668:\tlearn: 2860.4997384\ttotal: 18.8s\tremaining: 9.32s\n",
      "669:\tlearn: 2860.4559724\ttotal: 18.9s\tremaining: 9.29s\n",
      "670:\tlearn: 2860.3861133\ttotal: 18.9s\tremaining: 9.26s\n",
      "671:\tlearn: 2860.3346279\ttotal: 18.9s\tremaining: 9.23s\n",
      "672:\tlearn: 2860.2719890\ttotal: 18.9s\tremaining: 9.2s\n",
      "673:\tlearn: 2860.1578316\ttotal: 19s\tremaining: 9.17s\n",
      "674:\tlearn: 2860.0314677\ttotal: 19s\tremaining: 9.14s\n",
      "675:\tlearn: 2859.9841649\ttotal: 19s\tremaining: 9.12s\n",
      "676:\tlearn: 2859.9229243\ttotal: 19s\tremaining: 9.09s\n",
      "677:\tlearn: 2859.8638258\ttotal: 19.1s\tremaining: 9.06s\n",
      "678:\tlearn: 2859.8375164\ttotal: 19.1s\tremaining: 9.03s\n",
      "679:\tlearn: 2859.7172671\ttotal: 19.1s\tremaining: 9s\n",
      "680:\tlearn: 2859.6690530\ttotal: 19.2s\tremaining: 8.97s\n",
      "681:\tlearn: 2859.5221789\ttotal: 19.2s\tremaining: 8.95s\n",
      "682:\tlearn: 2859.4591846\ttotal: 19.2s\tremaining: 8.92s\n",
      "683:\tlearn: 2859.3929895\ttotal: 19.2s\tremaining: 8.89s\n",
      "684:\tlearn: 2859.3599478\ttotal: 19.3s\tremaining: 8.86s\n",
      "685:\tlearn: 2859.3190858\ttotal: 19.3s\tremaining: 8.83s\n",
      "686:\tlearn: 2859.2221059\ttotal: 19.3s\tremaining: 8.8s\n",
      "687:\tlearn: 2859.1556246\ttotal: 19.4s\tremaining: 8.78s\n",
      "688:\tlearn: 2859.1131661\ttotal: 19.4s\tremaining: 8.75s\n",
      "689:\tlearn: 2859.0642645\ttotal: 19.4s\tremaining: 8.72s\n",
      "690:\tlearn: 2858.9653987\ttotal: 19.4s\tremaining: 8.69s\n",
      "691:\tlearn: 2858.9120607\ttotal: 19.5s\tremaining: 8.66s\n",
      "692:\tlearn: 2858.8613405\ttotal: 19.5s\tremaining: 8.63s\n",
      "693:\tlearn: 2858.8084658\ttotal: 19.5s\tremaining: 8.61s\n",
      "694:\tlearn: 2858.6464242\ttotal: 19.6s\tremaining: 8.58s\n",
      "695:\tlearn: 2858.5998705\ttotal: 19.6s\tremaining: 8.55s\n",
      "696:\tlearn: 2858.5434111\ttotal: 19.6s\tremaining: 8.52s\n",
      "697:\tlearn: 2858.4084619\ttotal: 19.6s\tremaining: 8.49s\n",
      "698:\tlearn: 2858.3459098\ttotal: 19.7s\tremaining: 8.47s\n",
      "699:\tlearn: 2858.3011103\ttotal: 19.7s\tremaining: 8.44s\n",
      "700:\tlearn: 2858.1703761\ttotal: 19.7s\tremaining: 8.41s\n",
      "701:\tlearn: 2858.1443046\ttotal: 19.8s\tremaining: 8.38s\n",
      "702:\tlearn: 2858.0228840\ttotal: 19.8s\tremaining: 8.36s\n",
      "703:\tlearn: 2857.9313910\ttotal: 19.8s\tremaining: 8.33s\n",
      "704:\tlearn: 2857.9083952\ttotal: 19.8s\tremaining: 8.3s\n",
      "705:\tlearn: 2857.8523593\ttotal: 19.9s\tremaining: 8.27s\n",
      "706:\tlearn: 2857.8061515\ttotal: 19.9s\tremaining: 8.24s\n",
      "707:\tlearn: 2857.7434354\ttotal: 19.9s\tremaining: 8.21s\n",
      "708:\tlearn: 2857.6834558\ttotal: 19.9s\tremaining: 8.19s\n",
      "709:\tlearn: 2857.5914776\ttotal: 20s\tremaining: 8.16s\n",
      "710:\tlearn: 2857.5333566\ttotal: 20s\tremaining: 8.13s\n",
      "711:\tlearn: 2857.4869527\ttotal: 20s\tremaining: 8.1s\n",
      "712:\tlearn: 2857.4426300\ttotal: 20.1s\tremaining: 8.07s\n",
      "713:\tlearn: 2857.3910789\ttotal: 20.1s\tremaining: 8.04s\n",
      "714:\tlearn: 2857.3237458\ttotal: 20.1s\tremaining: 8.01s\n",
      "715:\tlearn: 2857.2841906\ttotal: 20.1s\tremaining: 7.98s\n",
      "716:\tlearn: 2857.2649976\ttotal: 20.2s\tremaining: 7.96s\n",
      "717:\tlearn: 2857.1778190\ttotal: 20.2s\tremaining: 7.93s\n",
      "718:\tlearn: 2857.1285777\ttotal: 20.2s\tremaining: 7.9s\n",
      "719:\tlearn: 2857.0687927\ttotal: 20.2s\tremaining: 7.87s\n",
      "720:\tlearn: 2857.0245668\ttotal: 20.3s\tremaining: 7.84s\n",
      "721:\tlearn: 2856.9107487\ttotal: 20.3s\tremaining: 7.82s\n",
      "722:\tlearn: 2856.8237003\ttotal: 20.3s\tremaining: 7.79s\n",
      "723:\tlearn: 2856.7844960\ttotal: 20.4s\tremaining: 7.76s\n",
      "724:\tlearn: 2856.7152163\ttotal: 20.4s\tremaining: 7.73s\n",
      "725:\tlearn: 2856.6838100\ttotal: 20.4s\tremaining: 7.7s\n",
      "726:\tlearn: 2856.6174930\ttotal: 20.4s\tremaining: 7.67s\n",
      "727:\tlearn: 2856.5844844\ttotal: 20.5s\tremaining: 7.64s\n",
      "728:\tlearn: 2856.4896627\ttotal: 20.5s\tremaining: 7.62s\n",
      "729:\tlearn: 2856.4176472\ttotal: 20.5s\tremaining: 7.59s\n",
      "730:\tlearn: 2856.3556607\ttotal: 20.5s\tremaining: 7.56s\n",
      "731:\tlearn: 2856.2348688\ttotal: 20.6s\tremaining: 7.53s\n",
      "732:\tlearn: 2856.1832066\ttotal: 20.6s\tremaining: 7.5s\n",
      "733:\tlearn: 2856.1475358\ttotal: 20.6s\tremaining: 7.47s\n",
      "734:\tlearn: 2856.0490386\ttotal: 20.7s\tremaining: 7.45s\n",
      "735:\tlearn: 2855.9696179\ttotal: 20.7s\tremaining: 7.42s\n",
      "736:\tlearn: 2855.9225454\ttotal: 20.7s\tremaining: 7.39s\n",
      "737:\tlearn: 2855.8194832\ttotal: 20.7s\tremaining: 7.36s\n",
      "738:\tlearn: 2855.7877346\ttotal: 20.8s\tremaining: 7.33s\n",
      "739:\tlearn: 2855.7663211\ttotal: 20.8s\tremaining: 7.3s\n",
      "740:\tlearn: 2855.7011904\ttotal: 20.8s\tremaining: 7.28s\n",
      "741:\tlearn: 2855.6523849\ttotal: 20.8s\tremaining: 7.25s\n",
      "742:\tlearn: 2855.5219519\ttotal: 20.9s\tremaining: 7.22s\n",
      "743:\tlearn: 2855.4785692\ttotal: 20.9s\tremaining: 7.19s\n",
      "744:\tlearn: 2855.3655125\ttotal: 20.9s\tremaining: 7.16s\n",
      "745:\tlearn: 2855.3078101\ttotal: 21s\tremaining: 7.13s\n",
      "746:\tlearn: 2855.2205896\ttotal: 21s\tremaining: 7.11s\n",
      "747:\tlearn: 2855.1329886\ttotal: 21s\tremaining: 7.08s\n",
      "748:\tlearn: 2855.0559870\ttotal: 21s\tremaining: 7.05s\n",
      "749:\tlearn: 2854.9973743\ttotal: 21.1s\tremaining: 7.02s\n",
      "750:\tlearn: 2854.9487778\ttotal: 21.1s\tremaining: 6.99s\n",
      "751:\tlearn: 2854.9056122\ttotal: 21.1s\tremaining: 6.96s\n",
      "752:\tlearn: 2854.8532294\ttotal: 21.1s\tremaining: 6.93s\n",
      "753:\tlearn: 2854.7915939\ttotal: 21.2s\tremaining: 6.91s\n",
      "754:\tlearn: 2854.7543834\ttotal: 21.2s\tremaining: 6.88s\n",
      "755:\tlearn: 2854.6379673\ttotal: 21.2s\tremaining: 6.85s\n",
      "756:\tlearn: 2854.6014466\ttotal: 21.3s\tremaining: 6.82s\n",
      "757:\tlearn: 2854.5411237\ttotal: 21.3s\tremaining: 6.79s\n",
      "758:\tlearn: 2854.3998244\ttotal: 21.3s\tremaining: 6.77s\n",
      "759:\tlearn: 2854.3065068\ttotal: 21.3s\tremaining: 6.74s\n",
      "760:\tlearn: 2854.2649904\ttotal: 21.4s\tremaining: 6.71s\n",
      "761:\tlearn: 2854.2147826\ttotal: 21.4s\tremaining: 6.68s\n",
      "762:\tlearn: 2854.0947250\ttotal: 21.4s\tremaining: 6.66s\n",
      "763:\tlearn: 2854.0605862\ttotal: 21.5s\tremaining: 6.63s\n",
      "764:\tlearn: 2854.0241215\ttotal: 21.5s\tremaining: 6.6s\n",
      "765:\tlearn: 2853.9498227\ttotal: 21.5s\tremaining: 6.57s\n",
      "766:\tlearn: 2853.8693498\ttotal: 21.5s\tremaining: 6.54s\n",
      "767:\tlearn: 2853.8342093\ttotal: 21.6s\tremaining: 6.51s\n",
      "768:\tlearn: 2853.8044222\ttotal: 21.6s\tremaining: 6.49s\n",
      "769:\tlearn: 2853.7455529\ttotal: 21.6s\tremaining: 6.46s\n",
      "770:\tlearn: 2853.7047118\ttotal: 21.6s\tremaining: 6.43s\n",
      "771:\tlearn: 2853.6575572\ttotal: 21.7s\tremaining: 6.4s\n",
      "772:\tlearn: 2853.6386066\ttotal: 21.7s\tremaining: 6.37s\n",
      "773:\tlearn: 2853.5847667\ttotal: 21.7s\tremaining: 6.34s\n",
      "774:\tlearn: 2853.5506253\ttotal: 21.8s\tremaining: 6.32s\n",
      "775:\tlearn: 2853.4858582\ttotal: 21.8s\tremaining: 6.29s\n",
      "776:\tlearn: 2853.4523329\ttotal: 21.8s\tremaining: 6.26s\n",
      "777:\tlearn: 2853.4193840\ttotal: 21.8s\tremaining: 6.23s\n",
      "778:\tlearn: 2853.3923929\ttotal: 21.9s\tremaining: 6.2s\n",
      "779:\tlearn: 2853.3367236\ttotal: 21.9s\tremaining: 6.17s\n",
      "780:\tlearn: 2853.2899757\ttotal: 21.9s\tremaining: 6.15s\n",
      "781:\tlearn: 2853.2642774\ttotal: 21.9s\tremaining: 6.12s\n",
      "782:\tlearn: 2853.2346280\ttotal: 22s\tremaining: 6.09s\n",
      "783:\tlearn: 2853.1931550\ttotal: 22s\tremaining: 6.06s\n",
      "784:\tlearn: 2853.1607395\ttotal: 22s\tremaining: 6.03s\n",
      "785:\tlearn: 2853.1018570\ttotal: 22.1s\tremaining: 6s\n",
      "786:\tlearn: 2853.0405348\ttotal: 22.1s\tremaining: 5.98s\n",
      "787:\tlearn: 2852.9988759\ttotal: 22.1s\tremaining: 5.95s\n",
      "788:\tlearn: 2852.9626985\ttotal: 22.1s\tremaining: 5.92s\n",
      "789:\tlearn: 2852.8677733\ttotal: 22.2s\tremaining: 5.89s\n",
      "790:\tlearn: 2852.8325209\ttotal: 22.2s\tremaining: 5.86s\n",
      "791:\tlearn: 2852.7337495\ttotal: 22.2s\tremaining: 5.83s\n",
      "792:\tlearn: 2852.6966996\ttotal: 22.2s\tremaining: 5.81s\n",
      "793:\tlearn: 2852.6582597\ttotal: 22.3s\tremaining: 5.78s\n",
      "794:\tlearn: 2852.6197211\ttotal: 22.3s\tremaining: 5.75s\n",
      "795:\tlearn: 2852.5770642\ttotal: 22.3s\tremaining: 5.72s\n",
      "796:\tlearn: 2852.5230736\ttotal: 22.4s\tremaining: 5.7s\n",
      "797:\tlearn: 2852.4716647\ttotal: 22.4s\tremaining: 5.67s\n",
      "798:\tlearn: 2852.3380432\ttotal: 22.4s\tremaining: 5.64s\n",
      "799:\tlearn: 2852.2936218\ttotal: 22.4s\tremaining: 5.61s\n",
      "800:\tlearn: 2852.2520585\ttotal: 22.5s\tremaining: 5.58s\n",
      "801:\tlearn: 2852.2206122\ttotal: 22.5s\tremaining: 5.55s\n",
      "802:\tlearn: 2852.1575773\ttotal: 22.5s\tremaining: 5.53s\n",
      "803:\tlearn: 2852.0750401\ttotal: 22.6s\tremaining: 5.5s\n",
      "804:\tlearn: 2851.9750129\ttotal: 22.6s\tremaining: 5.47s\n",
      "805:\tlearn: 2851.9096932\ttotal: 22.6s\tremaining: 5.44s\n",
      "806:\tlearn: 2851.8418494\ttotal: 22.6s\tremaining: 5.42s\n",
      "807:\tlearn: 2851.8025171\ttotal: 22.7s\tremaining: 5.39s\n",
      "808:\tlearn: 2851.7741353\ttotal: 22.7s\tremaining: 5.36s\n",
      "809:\tlearn: 2851.7573452\ttotal: 22.7s\tremaining: 5.33s\n",
      "810:\tlearn: 2851.7165200\ttotal: 22.8s\tremaining: 5.3s\n",
      "811:\tlearn: 2851.5838638\ttotal: 22.8s\tremaining: 5.27s\n",
      "812:\tlearn: 2851.5103104\ttotal: 22.8s\tremaining: 5.25s\n",
      "813:\tlearn: 2851.4817880\ttotal: 22.8s\tremaining: 5.22s\n",
      "814:\tlearn: 2851.4451811\ttotal: 22.9s\tremaining: 5.19s\n",
      "815:\tlearn: 2851.3709044\ttotal: 22.9s\tremaining: 5.16s\n",
      "816:\tlearn: 2851.3261013\ttotal: 22.9s\tremaining: 5.13s\n",
      "817:\tlearn: 2851.2835385\ttotal: 22.9s\tremaining: 5.11s\n",
      "818:\tlearn: 2851.2326089\ttotal: 23s\tremaining: 5.08s\n",
      "819:\tlearn: 2851.1771530\ttotal: 23s\tremaining: 5.05s\n",
      "820:\tlearn: 2851.1388601\ttotal: 23s\tremaining: 5.02s\n",
      "821:\tlearn: 2851.1070108\ttotal: 23.1s\tremaining: 4.99s\n",
      "822:\tlearn: 2851.0139955\ttotal: 23.1s\tremaining: 4.96s\n",
      "823:\tlearn: 2850.9628486\ttotal: 23.1s\tremaining: 4.94s\n",
      "824:\tlearn: 2850.9360726\ttotal: 23.1s\tremaining: 4.91s\n",
      "825:\tlearn: 2850.9031631\ttotal: 23.2s\tremaining: 4.88s\n",
      "826:\tlearn: 2850.8654757\ttotal: 23.2s\tremaining: 4.85s\n",
      "827:\tlearn: 2850.8350081\ttotal: 23.2s\tremaining: 4.82s\n",
      "828:\tlearn: 2850.7958738\ttotal: 23.2s\tremaining: 4.79s\n",
      "829:\tlearn: 2850.7831989\ttotal: 23.3s\tremaining: 4.77s\n",
      "830:\tlearn: 2850.7102411\ttotal: 23.3s\tremaining: 4.74s\n",
      "831:\tlearn: 2850.5640052\ttotal: 23.3s\tremaining: 4.71s\n",
      "832:\tlearn: 2850.4773043\ttotal: 23.4s\tremaining: 4.68s\n",
      "833:\tlearn: 2850.3957511\ttotal: 23.4s\tremaining: 4.66s\n",
      "834:\tlearn: 2850.3662938\ttotal: 23.4s\tremaining: 4.63s\n",
      "835:\tlearn: 2850.2707338\ttotal: 23.4s\tremaining: 4.6s\n",
      "836:\tlearn: 2850.2122598\ttotal: 23.5s\tremaining: 4.57s\n",
      "837:\tlearn: 2850.1614606\ttotal: 23.5s\tremaining: 4.54s\n",
      "838:\tlearn: 2850.1273950\ttotal: 23.5s\tremaining: 4.51s\n",
      "839:\tlearn: 2850.1001972\ttotal: 23.6s\tremaining: 4.49s\n",
      "840:\tlearn: 2850.0391944\ttotal: 23.6s\tremaining: 4.46s\n",
      "841:\tlearn: 2850.0031379\ttotal: 23.6s\tremaining: 4.43s\n",
      "842:\tlearn: 2849.9565279\ttotal: 23.6s\tremaining: 4.4s\n",
      "843:\tlearn: 2849.8733969\ttotal: 23.7s\tremaining: 4.38s\n",
      "844:\tlearn: 2849.8447123\ttotal: 23.7s\tremaining: 4.35s\n",
      "845:\tlearn: 2849.7925316\ttotal: 23.7s\tremaining: 4.32s\n",
      "846:\tlearn: 2849.7291266\ttotal: 23.8s\tremaining: 4.29s\n",
      "847:\tlearn: 2849.6883344\ttotal: 23.8s\tremaining: 4.26s\n",
      "848:\tlearn: 2849.5937651\ttotal: 23.8s\tremaining: 4.23s\n",
      "849:\tlearn: 2849.5557496\ttotal: 23.8s\tremaining: 4.21s\n",
      "850:\tlearn: 2849.5332539\ttotal: 23.9s\tremaining: 4.18s\n",
      "851:\tlearn: 2849.4868109\ttotal: 23.9s\tremaining: 4.15s\n",
      "852:\tlearn: 2849.4467185\ttotal: 23.9s\tremaining: 4.12s\n",
      "853:\tlearn: 2849.4195451\ttotal: 23.9s\tremaining: 4.09s\n",
      "854:\tlearn: 2849.3848523\ttotal: 24s\tremaining: 4.07s\n",
      "855:\tlearn: 2849.3253759\ttotal: 24s\tremaining: 4.04s\n",
      "856:\tlearn: 2849.2805588\ttotal: 24s\tremaining: 4.01s\n",
      "857:\tlearn: 2849.2580243\ttotal: 24.1s\tremaining: 3.98s\n",
      "858:\tlearn: 2849.2092216\ttotal: 24.1s\tremaining: 3.95s\n",
      "859:\tlearn: 2849.1604907\ttotal: 24.1s\tremaining: 3.92s\n",
      "860:\tlearn: 2849.1179704\ttotal: 24.1s\tremaining: 3.9s\n",
      "861:\tlearn: 2849.0826002\ttotal: 24.2s\tremaining: 3.87s\n",
      "862:\tlearn: 2849.0109562\ttotal: 24.2s\tremaining: 3.84s\n",
      "863:\tlearn: 2848.9673122\ttotal: 24.2s\tremaining: 3.81s\n",
      "864:\tlearn: 2848.9175157\ttotal: 24.2s\tremaining: 3.78s\n",
      "865:\tlearn: 2848.8664382\ttotal: 24.3s\tremaining: 3.76s\n",
      "866:\tlearn: 2848.8421290\ttotal: 24.3s\tremaining: 3.73s\n",
      "867:\tlearn: 2848.7610211\ttotal: 24.3s\tremaining: 3.7s\n",
      "868:\tlearn: 2848.6869455\ttotal: 24.4s\tremaining: 3.67s\n",
      "869:\tlearn: 2848.6592071\ttotal: 24.4s\tremaining: 3.64s\n",
      "870:\tlearn: 2848.6524193\ttotal: 24.4s\tremaining: 3.62s\n",
      "871:\tlearn: 2848.6067730\ttotal: 24.4s\tremaining: 3.59s\n",
      "872:\tlearn: 2848.5295354\ttotal: 24.5s\tremaining: 3.56s\n",
      "873:\tlearn: 2848.4685885\ttotal: 24.5s\tremaining: 3.53s\n",
      "874:\tlearn: 2848.4219835\ttotal: 24.5s\tremaining: 3.5s\n",
      "875:\tlearn: 2848.3506343\ttotal: 24.5s\tremaining: 3.47s\n",
      "876:\tlearn: 2848.3083215\ttotal: 24.6s\tremaining: 3.45s\n",
      "877:\tlearn: 2848.2699400\ttotal: 24.6s\tremaining: 3.42s\n",
      "878:\tlearn: 2848.2005820\ttotal: 24.6s\tremaining: 3.39s\n",
      "879:\tlearn: 2848.1622538\ttotal: 24.7s\tremaining: 3.36s\n",
      "880:\tlearn: 2848.1319468\ttotal: 24.7s\tremaining: 3.33s\n",
      "881:\tlearn: 2848.0554772\ttotal: 24.7s\tremaining: 3.31s\n",
      "882:\tlearn: 2847.9897937\ttotal: 24.7s\tremaining: 3.28s\n",
      "883:\tlearn: 2847.9577567\ttotal: 24.8s\tremaining: 3.25s\n",
      "884:\tlearn: 2847.8838341\ttotal: 24.8s\tremaining: 3.22s\n",
      "885:\tlearn: 2847.8524401\ttotal: 24.8s\tremaining: 3.19s\n",
      "886:\tlearn: 2847.8095419\ttotal: 24.8s\tremaining: 3.17s\n",
      "887:\tlearn: 2847.7369157\ttotal: 24.9s\tremaining: 3.14s\n",
      "888:\tlearn: 2847.7117365\ttotal: 24.9s\tremaining: 3.11s\n",
      "889:\tlearn: 2847.6690888\ttotal: 24.9s\tremaining: 3.08s\n",
      "890:\tlearn: 2847.5837872\ttotal: 24.9s\tremaining: 3.05s\n",
      "891:\tlearn: 2847.5485644\ttotal: 25s\tremaining: 3.02s\n",
      "892:\tlearn: 2847.5076403\ttotal: 25s\tremaining: 3s\n",
      "893:\tlearn: 2847.4758560\ttotal: 25s\tremaining: 2.97s\n",
      "894:\tlearn: 2847.4371723\ttotal: 25.1s\tremaining: 2.94s\n",
      "895:\tlearn: 2847.3906122\ttotal: 25.1s\tremaining: 2.91s\n",
      "896:\tlearn: 2847.3630295\ttotal: 25.1s\tremaining: 2.88s\n",
      "897:\tlearn: 2847.3059747\ttotal: 25.1s\tremaining: 2.85s\n",
      "898:\tlearn: 2847.2312173\ttotal: 25.2s\tremaining: 2.83s\n",
      "899:\tlearn: 2847.2022492\ttotal: 25.2s\tremaining: 2.8s\n",
      "900:\tlearn: 2847.1517444\ttotal: 25.2s\tremaining: 2.77s\n",
      "901:\tlearn: 2847.0907300\ttotal: 25.3s\tremaining: 2.74s\n",
      "902:\tlearn: 2847.0461951\ttotal: 25.3s\tremaining: 2.72s\n",
      "903:\tlearn: 2846.9949390\ttotal: 25.3s\tremaining: 2.69s\n",
      "904:\tlearn: 2846.9531609\ttotal: 25.3s\tremaining: 2.66s\n",
      "905:\tlearn: 2846.8990485\ttotal: 25.4s\tremaining: 2.63s\n",
      "906:\tlearn: 2846.8340416\ttotal: 25.4s\tremaining: 2.6s\n",
      "907:\tlearn: 2846.7357552\ttotal: 25.4s\tremaining: 2.58s\n",
      "908:\tlearn: 2846.6932560\ttotal: 25.4s\tremaining: 2.55s\n",
      "909:\tlearn: 2846.6600556\ttotal: 25.5s\tremaining: 2.52s\n",
      "910:\tlearn: 2846.6183077\ttotal: 25.5s\tremaining: 2.49s\n",
      "911:\tlearn: 2846.5704403\ttotal: 25.5s\tremaining: 2.46s\n",
      "912:\tlearn: 2846.5377715\ttotal: 25.6s\tremaining: 2.44s\n",
      "913:\tlearn: 2846.4989923\ttotal: 25.6s\tremaining: 2.41s\n",
      "914:\tlearn: 2846.4803518\ttotal: 25.6s\tremaining: 2.38s\n",
      "915:\tlearn: 2846.4355500\ttotal: 25.6s\tremaining: 2.35s\n",
      "916:\tlearn: 2846.4048082\ttotal: 25.7s\tremaining: 2.32s\n",
      "917:\tlearn: 2846.3651509\ttotal: 25.7s\tremaining: 2.29s\n",
      "918:\tlearn: 2846.3351986\ttotal: 25.7s\tremaining: 2.27s\n",
      "919:\tlearn: 2846.3139041\ttotal: 25.8s\tremaining: 2.24s\n",
      "920:\tlearn: 2846.2910136\ttotal: 25.8s\tremaining: 2.21s\n",
      "921:\tlearn: 2846.2422772\ttotal: 25.8s\tremaining: 2.18s\n",
      "922:\tlearn: 2846.2036288\ttotal: 25.8s\tremaining: 2.15s\n",
      "923:\tlearn: 2846.1708627\ttotal: 25.9s\tremaining: 2.13s\n",
      "924:\tlearn: 2846.1284704\ttotal: 25.9s\tremaining: 2.1s\n",
      "925:\tlearn: 2846.0793927\ttotal: 25.9s\tremaining: 2.07s\n",
      "926:\tlearn: 2846.0296150\ttotal: 25.9s\tremaining: 2.04s\n",
      "927:\tlearn: 2845.9950284\ttotal: 26s\tremaining: 2.01s\n",
      "928:\tlearn: 2845.9579142\ttotal: 26s\tremaining: 1.99s\n",
      "929:\tlearn: 2845.8809568\ttotal: 26s\tremaining: 1.96s\n",
      "930:\tlearn: 2845.8503392\ttotal: 26.1s\tremaining: 1.93s\n",
      "931:\tlearn: 2845.7808212\ttotal: 26.1s\tremaining: 1.9s\n",
      "932:\tlearn: 2845.7604397\ttotal: 26.1s\tremaining: 1.87s\n",
      "933:\tlearn: 2845.7270171\ttotal: 26.1s\tremaining: 1.85s\n",
      "934:\tlearn: 2845.6865879\ttotal: 26.2s\tremaining: 1.82s\n",
      "935:\tlearn: 2845.6619129\ttotal: 26.2s\tremaining: 1.79s\n",
      "936:\tlearn: 2845.6038733\ttotal: 26.2s\tremaining: 1.76s\n",
      "937:\tlearn: 2845.5677402\ttotal: 26.2s\tremaining: 1.73s\n",
      "938:\tlearn: 2845.5374309\ttotal: 26.3s\tremaining: 1.71s\n",
      "939:\tlearn: 2845.4878898\ttotal: 26.3s\tremaining: 1.68s\n",
      "940:\tlearn: 2845.4239708\ttotal: 26.3s\tremaining: 1.65s\n",
      "941:\tlearn: 2845.3829986\ttotal: 26.4s\tremaining: 1.62s\n",
      "942:\tlearn: 2845.3262271\ttotal: 26.4s\tremaining: 1.59s\n",
      "943:\tlearn: 2845.3002154\ttotal: 26.4s\tremaining: 1.57s\n",
      "944:\tlearn: 2845.2519413\ttotal: 26.4s\tremaining: 1.54s\n",
      "945:\tlearn: 2845.2088637\ttotal: 26.5s\tremaining: 1.51s\n",
      "946:\tlearn: 2845.1728766\ttotal: 26.5s\tremaining: 1.48s\n",
      "947:\tlearn: 2845.1161257\ttotal: 26.5s\tremaining: 1.45s\n",
      "948:\tlearn: 2845.0341476\ttotal: 26.5s\tremaining: 1.43s\n",
      "949:\tlearn: 2845.0106995\ttotal: 26.6s\tremaining: 1.4s\n",
      "950:\tlearn: 2844.9745060\ttotal: 26.6s\tremaining: 1.37s\n",
      "951:\tlearn: 2844.9358746\ttotal: 26.6s\tremaining: 1.34s\n",
      "952:\tlearn: 2844.8950368\ttotal: 26.7s\tremaining: 1.31s\n",
      "953:\tlearn: 2844.8461292\ttotal: 26.7s\tremaining: 1.29s\n",
      "954:\tlearn: 2844.7896072\ttotal: 26.7s\tremaining: 1.26s\n",
      "955:\tlearn: 2844.7384516\ttotal: 26.7s\tremaining: 1.23s\n",
      "956:\tlearn: 2844.7127189\ttotal: 26.8s\tremaining: 1.2s\n",
      "957:\tlearn: 2844.6619305\ttotal: 26.8s\tremaining: 1.17s\n",
      "958:\tlearn: 2844.6510785\ttotal: 26.8s\tremaining: 1.15s\n",
      "959:\tlearn: 2844.6294028\ttotal: 26.8s\tremaining: 1.12s\n",
      "960:\tlearn: 2844.5345772\ttotal: 26.9s\tremaining: 1.09s\n",
      "961:\tlearn: 2844.5086880\ttotal: 26.9s\tremaining: 1.06s\n",
      "962:\tlearn: 2844.4802908\ttotal: 26.9s\tremaining: 1.03s\n",
      "963:\tlearn: 2844.4535378\ttotal: 27s\tremaining: 1.01s\n",
      "964:\tlearn: 2844.4197332\ttotal: 27s\tremaining: 979ms\n",
      "965:\tlearn: 2844.3750327\ttotal: 27s\tremaining: 951ms\n",
      "966:\tlearn: 2844.3468423\ttotal: 27s\tremaining: 923ms\n",
      "967:\tlearn: 2844.2841978\ttotal: 27.1s\tremaining: 895ms\n",
      "968:\tlearn: 2844.2396807\ttotal: 27.1s\tremaining: 867ms\n",
      "969:\tlearn: 2844.2153866\ttotal: 27.1s\tremaining: 839ms\n",
      "970:\tlearn: 2844.1779166\ttotal: 27.1s\tremaining: 811ms\n",
      "971:\tlearn: 2844.1584599\ttotal: 27.2s\tremaining: 783ms\n",
      "972:\tlearn: 2844.1198293\ttotal: 27.2s\tremaining: 755ms\n",
      "973:\tlearn: 2844.0939216\ttotal: 27.2s\tremaining: 727ms\n",
      "974:\tlearn: 2844.0500382\ttotal: 27.3s\tremaining: 699ms\n",
      "975:\tlearn: 2844.0077095\ttotal: 27.3s\tremaining: 671ms\n",
      "976:\tlearn: 2843.9699059\ttotal: 27.3s\tremaining: 643ms\n",
      "977:\tlearn: 2843.9384662\ttotal: 27.3s\tremaining: 615ms\n",
      "978:\tlearn: 2843.8588062\ttotal: 27.4s\tremaining: 587ms\n",
      "979:\tlearn: 2843.8240526\ttotal: 27.4s\tremaining: 559ms\n",
      "980:\tlearn: 2843.7779791\ttotal: 27.4s\tremaining: 531ms\n",
      "981:\tlearn: 2843.7563556\ttotal: 27.5s\tremaining: 503ms\n",
      "982:\tlearn: 2843.7175961\ttotal: 27.5s\tremaining: 475ms\n",
      "983:\tlearn: 2843.6843908\ttotal: 27.5s\tremaining: 447ms\n",
      "984:\tlearn: 2843.6618729\ttotal: 27.5s\tremaining: 419ms\n",
      "985:\tlearn: 2843.6363685\ttotal: 27.6s\tremaining: 391ms\n",
      "986:\tlearn: 2843.6069780\ttotal: 27.6s\tremaining: 363ms\n",
      "987:\tlearn: 2843.5708427\ttotal: 27.6s\tremaining: 335ms\n",
      "988:\tlearn: 2843.5142554\ttotal: 27.7s\tremaining: 308ms\n",
      "989:\tlearn: 2843.4343688\ttotal: 27.7s\tremaining: 280ms\n",
      "990:\tlearn: 2843.3709702\ttotal: 27.7s\tremaining: 252ms\n",
      "991:\tlearn: 2843.3241588\ttotal: 27.7s\tremaining: 224ms\n",
      "992:\tlearn: 2843.2959439\ttotal: 27.8s\tremaining: 196ms\n",
      "993:\tlearn: 2843.2636023\ttotal: 27.8s\tremaining: 168ms\n",
      "994:\tlearn: 2843.2428300\ttotal: 27.8s\tremaining: 140ms\n",
      "995:\tlearn: 2843.2034440\ttotal: 27.9s\tremaining: 112ms\n",
      "996:\tlearn: 2843.1740329\ttotal: 27.9s\tremaining: 83.9ms\n",
      "997:\tlearn: 2843.1578071\ttotal: 27.9s\tremaining: 56ms\n",
      "998:\tlearn: 2843.1211391\ttotal: 28s\tremaining: 28ms\n",
      "999:\tlearn: 2843.0855459\ttotal: 28s\tremaining: 0us\n"
     ]
    }
   ],
   "source": [
    "pred_cbr = cbr.fit(X, y).predict(newtest)\n",
    "solution = pd.DataFrame({\"Purchase\":pred_cbr, \n",
    "                         \"User_ID\":test.User_ID, \"Product_ID\": test.Product_ID})\n",
    "solution.to_csv(\"Catboost.csv\", index=False) # 2870"
   ]
  },
  {
   "cell_type": "markdown",
   "id": "d8dbb2af",
   "metadata": {},
   "source": [
    "Conclusion\n",
    "\n",
    "**The Best Model is XGB with CV =10 and Learning Rate = 0.3 and Max Depth = 8.**"
   ]
  }
 ],
 "metadata": {
  "kernelspec": {
   "display_name": "Python 3 (ipykernel)",
   "language": "python",
   "name": "python3"
  },
  "language_info": {
   "codemirror_mode": {
    "name": "ipython",
    "version": 3
   },
   "file_extension": ".py",
   "mimetype": "text/x-python",
   "name": "python",
   "nbconvert_exporter": "python",
   "pygments_lexer": "ipython3",
   "version": "3.9.7"
  }
 },
 "nbformat": 4,
 "nbformat_minor": 5
}
